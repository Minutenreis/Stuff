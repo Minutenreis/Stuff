{
 "cells": [
  {
   "cell_type": "markdown",
   "id": "df141fbf",
   "metadata": {},
   "source": [
    "# Gleitkommazahlen in Python\n",
    "\n",
    "Wenn Sie Ganzzahlen in Python dividieren (dazu genügt Division durch $1$) oder den Typ `float` explizit auf etwas anwenden, was als Gleitkommazahl interpretiert werden kann, oder wenn Sie eine Zahl mit einem Dezimalpunkt hinschreiben, entsteht eine Gleitkommazahl. Der Standardtyp für Gleitkommazahlen in Python ist `float`, was \"double precision\"-Gleitkommazahlen in Binärdarstellung entspricht, wie sie im Standard [IEEE 754](https://de.wikipedia.org/wiki/IEEE_754) festgelegt sind."
   ]
  },
  {
   "cell_type": "code",
   "execution_count": 1,
   "id": "89e164b5",
   "metadata": {},
   "outputs": [
    {
     "name": "stdout",
     "output_type": "stream",
     "text": [
      "5.0\n",
      "5.0\n",
      "5.0\n",
      "5.0\n"
     ]
    }
   ],
   "source": [
    "print( 5/1 )\n",
    "print( float('5') )\n",
    "print( float( 5 ) )\n",
    "print( 5. )"
   ]
  },
  {
   "cell_type": "markdown",
   "id": "1328b39a",
   "metadata": {},
   "source": [
    "Wie Sie sehen, kann man eine Gleitkommazahl auch aus einem String (hier: `'5'` oder `\"5\"`) erzeugen. Man kann dabei auch die *wissenschaftliche Notation* verwenden. Für $1.23\\cdot 10^{-5}$ schreibt man dabei `1.23e-5`:"
   ]
  },
  {
   "cell_type": "code",
   "execution_count": 2,
   "id": "3d612542",
   "metadata": {},
   "outputs": [
    {
     "name": "stdout",
     "output_type": "stream",
     "text": [
      "1.23e-05\n",
      "1.23e-05\n"
     ]
    }
   ],
   "source": [
    "print( float( '1.23E-5' ) ) # auch ein großes \"E\" funktioniert\n",
    "print( 1.23e-5 )"
   ]
  },
  {
   "cell_type": "markdown",
   "id": "1c0df801",
   "metadata": {},
   "source": [
    "In numerischen Anwendungen verwenden wir das `numpy`-Paket. Der entsprechende Datentyp in `numpy` heißt `numpy.double` (da es ja \"double precision\" ist) oder `numpy.float64` (da es ja eine $64$-Bit-Gleitkommazahl ist):"
   ]
  },
  {
   "cell_type": "code",
   "execution_count": 3,
   "id": "3ee32438",
   "metadata": {},
   "outputs": [
    {
     "name": "stdout",
     "output_type": "stream",
     "text": [
      "1.2 hat den Typ <class 'numpy.float64'>\n"
     ]
    }
   ],
   "source": [
    "import numpy as np\n",
    "print( np.double(1.2), \"hat den Typ\", type(np.double(1.2)) )"
   ]
  },
  {
   "cell_type": "markdown",
   "id": "5a8d502b",
   "metadata": {},
   "source": [
    "## Rundung\n",
    "\n",
    "<div class=\"alert alert-block alert-info\">\n",
    "<b>Konvention:</b>\n",
    "    <ul>\n",
    "        <li> Wenn Sie in einer Aufgabe mit einer vorgegebenen dezimalen Mantissenlänge rechnen sollen, so runden Sie <b>nach jeder Rechenoperation</b> mit <b>mathematischer Rundungsregel (half-to-even)</b> im <b>dezimalen Gleitkommaformat</b>. <br>\n",
    "            Runden Sie <b>\"manuell\"</b>, also ohne die `round()`-Funktion zu verwenden.\n",
    "        <li> In Programmieraufgaben rechnen Sie mit double precision (also `float` in Python bzw. `double` in `numpy`)\n",
    "            </ul>\n",
    "</div>\n",
    "\n",
    "Sowohl in Python als auch in numpy gibt es Funktionen des Namens \"round\", die auf eine vorgegebene Zahl von dezimalen Nachkommastellen runden. Das entspricht der Rundung im Festkomma- statt im Gleitkommaformat, und das ist der erste Grund für die oben formulierte Aufgaben-Konvention. Der zweite Grund ist, dass es subtile Fallen aufgrund des Wechselspiels zwischen dem intern verwendeten Binärformat und dem für die Ausgabe verwendeten Dezimalformat gibt und sich zudem die `round()`-Funktionen in Python und numpy manchmal unterscheiden, wie ich im Folgenden darstellen möchte.\n",
    "\n",
    "Mit `round( x, d )` wird die Zahl $x$ auf $d$ *dezimale* **Nachkomma**stellen gerundet. Es handelt sich also wohlgemerkt um eine Rundung im Festkommaformat, nicht im Gleitkommaformat:"
   ]
  },
  {
   "cell_type": "code",
   "execution_count": 4,
   "id": "1d286d87",
   "metadata": {},
   "outputs": [
    {
     "name": "stdout",
     "output_type": "stream",
     "text": [
      "3.14159\n",
      "3.14159\n"
     ]
    }
   ],
   "source": [
    "print( round(np.pi, 5) ) # np.pi ist die Zahl Pi in double precision\n",
    "print( np.round(np.pi, 5) ) # np.round und round stimmen HIER überein"
   ]
  },
  {
   "cell_type": "markdown",
   "id": "9d4cebf0",
   "metadata": {},
   "source": [
    "Schreibt man einfach nur `round( x )`, so wird ganzzahlig gerundet. Zunächst erhält man den Eindruck, dass Python und numpy mathematisch \"half-to-even\" runden:"
   ]
  },
  {
   "cell_type": "code",
   "execution_count": 5,
   "id": "1cf13335",
   "metadata": {},
   "outputs": [
    {
     "name": "stdout",
     "output_type": "stream",
     "text": [
      "12\n",
      "12.0\n",
      "14\n",
      "14.0\n",
      "1.2\n",
      "1.2\n",
      "1.4\n",
      "1.4\n"
     ]
    }
   ],
   "source": [
    "# Pyton und numpy runden jeweils half-to-even:\n",
    "print( round( 12.5 ) )\n",
    "print( np.round( 12.5 ) )\n",
    "print( round( 13.5 ) )\n",
    "print( np.round( 13.5 ) )\n",
    "print( round( 1.25, 1 ) )\n",
    "print( np.round( 1.25, 1 ) )\n",
    "print( round( 1.35, 1 ) )\n",
    "print( np.round( 1.35, 1 ) )"
   ]
  },
  {
   "cell_type": "markdown",
   "id": "c34c8b9b",
   "metadata": {},
   "source": [
    "Aber, o Schreck: In den folgenden Beispielen rundet Python anscheinend doch nicht nach der \"half-to-even\"-Regel, wobei zunächst unklar ist, welche Regel wirklich angewandt wird! numpy scheint sich da auf den ersten Blick besser zu verhalten:"
   ]
  },
  {
   "cell_type": "code",
   "execution_count": 6,
   "id": "31bb4247",
   "metadata": {},
   "outputs": [
    {
     "name": "stdout",
     "output_type": "stream",
     "text": [
      "1.2345\n",
      "1.2344\n",
      "16.05\n",
      "16.06\n"
     ]
    }
   ],
   "source": [
    "print( round( 1.23445, 4) )    # kaufmännisch? half-to-odd?\n",
    "print( np.round( 1.23445, 4) ) # half-to-even\n",
    "print( round( 16.055, 2 ) )    # half-to-odd? Jedenfalls nicht kaufmännisch\n",
    "print( np.round( 16.055, 2 ) ) # half-to-even"
   ]
  },
  {
   "cell_type": "markdown",
   "id": "204b863d",
   "metadata": {},
   "source": [
    "Diese subtilen Unterschiede haben ihren Grund darin, dass sich $1.23445$ sowie $16.055$ nicht  im Binärformat mit endlich vielen Nachkommastellen darstellen lässt und daher intern nicht als exakte Dezimalzahl, sondern als *gerundete* Binärzahl gespeichert sind. Python behandelt die Zahl $1.23445$ nämlich identisch mit einer Zahl, die anscheinend geringfügig größer als $1.23445$ ist."
   ]
  },
  {
   "cell_type": "code",
   "execution_count": 7,
   "id": "b0f1e17e",
   "metadata": {},
   "outputs": [
    {
     "name": "stdout",
     "output_type": "stream",
     "text": [
      "1.23445 True\n"
     ]
    }
   ],
   "source": [
    "print(1.234450000000000047251091928, 1.234450000000000047251091928==1.23445 )"
   ]
  },
  {
   "cell_type": "markdown",
   "id": "6a37781f",
   "metadata": {},
   "source": [
    "Umgekehrt behandelt Python die Zahl $16.055$ identisch mit einer Zahl, die anscheinend geringfügig kleiner als $16.055$ ist:"
   ]
  },
  {
   "cell_type": "code",
   "execution_count": 8,
   "id": "724b1238",
   "metadata": {},
   "outputs": [
    {
     "name": "stdout",
     "output_type": "stream",
     "text": [
      "16.055 True\n"
     ]
    }
   ],
   "source": [
    "print( 16.0549999999999997, 16.0549999999999997==16.055 )"
   ]
  },
  {
   "cell_type": "markdown",
   "id": "a057799f",
   "metadata": {},
   "source": [
    "Insofern ist es konsequent, dass Python $1.23445$ bei Rundung auf $4$ Nachkommastellen sowie $16.055$ bei Rundung auf $2$ Nachkommastellen nicht auf gerade Endziffer rundet. Andererseits verhält sich hier numpy näher an der dezimalen Rundungsregel angewandt auf das Anzeigeformat der Zahl.\n",
    "\n",
    "<div class=\"alert alert-block alert-danger\">\n",
    "<b>Fazit:</b><br>\n",
    "    Lassen Sie in Aufgaben die Finger von round(), wenn es nicht ausdrücklich verlangt wird!\n",
    "</div>\n",
    "\n",
    "In einem weiteren Notebook werden Sie ein Paket kennen lernen, das tatsächlich im Dezimalsystem rechnet, aber für echte numerische Anwendungen zu langsam und daher eher als Illustration geeignet ist.\n",
    "\n",
    "## Die Strukturdaten von float\n",
    "\n",
    "Im Paket `sys` sind einige Informationen über den Leistungsumfang von `float` verfügbar, etwa über die maximal darstellbaren Zahlen oder über das Maschinenepsilon:"
   ]
  },
  {
   "cell_type": "code",
   "execution_count": 9,
   "id": "e8d9b867",
   "metadata": {},
   "outputs": [
    {
     "data": {
      "text/plain": [
       "sys.float_info(max=1.7976931348623157e+308, max_exp=1024, max_10_exp=308, min=2.2250738585072014e-308, min_exp=-1021, min_10_exp=-307, dig=15, mant_dig=53, epsilon=2.220446049250313e-16, radix=2, rounds=1)"
      ]
     },
     "execution_count": 9,
     "metadata": {},
     "output_type": "execute_result"
    }
   ],
   "source": [
    "import sys\n",
    "sys.float_info"
   ]
  },
  {
   "cell_type": "markdown",
   "id": "70536cf2",
   "metadata": {},
   "source": [
    "Man kann die einzelnen Strukturdaten über ihren Namen erhalten:"
   ]
  },
  {
   "cell_type": "code",
   "execution_count": 10,
   "id": "1c2a5bed",
   "metadata": {},
   "outputs": [
    {
     "data": {
      "text/plain": [
       "2.220446049250313e-16"
      ]
     },
     "execution_count": 10,
     "metadata": {},
     "output_type": "execute_result"
    }
   ],
   "source": [
    "sys.float_info.epsilon"
   ]
  },
  {
   "cell_type": "markdown",
   "id": "f1db3484",
   "metadata": {},
   "source": [
    "Prüfen wir, ob dieses Epsilon wirklich das Maschinenepsilon ist: $\\epsilon$ ist die kleinste obere Schranke für den relativen Rundungsfehler von Gleitkommazahlen (siehe die Definition im Skript oder auch in [Wikipedia](https://de.wikipedia.org/wiki/Maschinengenauigkeit)); wegen der half-to-even-Regel müsste also $1+\\epsilon=1$ gerundet werden. Doch das ist offenbar nicht der Fall:"
   ]
  },
  {
   "cell_type": "code",
   "execution_count": 11,
   "id": "fd45fdd0",
   "metadata": {},
   "outputs": [
    {
     "data": {
      "text/plain": [
       "1.0000000000000002"
      ]
     },
     "execution_count": 11,
     "metadata": {},
     "output_type": "execute_result"
    }
   ],
   "source": [
    "1 + sys.float_info.epsilon"
   ]
  },
  {
   "cell_type": "markdown",
   "id": "ca104cc4",
   "metadata": {},
   "source": [
    "Also folgt Python offenbar der alternativen Konvention, dass das Maschinen-$\\varepsilon$ der Abstand von $1$ zur nächstgrößeren darstellbaren normalisierten Gleitkommazahl ist:"
   ]
  },
  {
   "cell_type": "code",
   "execution_count": 12,
   "id": "9ee6b0cb",
   "metadata": {},
   "outputs": [
    {
     "data": {
      "text/plain": [
       "1.0"
      ]
     },
     "execution_count": 12,
     "metadata": {},
     "output_type": "execute_result"
    }
   ],
   "source": [
    "1 + sys.float_info.epsilon/2"
   ]
  },
  {
   "cell_type": "markdown",
   "id": "4db6bef0",
   "metadata": {},
   "source": [
    "<div class=\"alert alert-block alert-danger\">\n",
    "<b>Halten Sie sich an die Definition aus dem Skript,</b> zumal sie mit der Definition in Wikipedia übereinstimmt.\n",
    "</div>\n",
    "\n",
    "Übrigens ist `sys.float_info.min` nicht die kleinste überhaupt darstellbare positive Zahl, denn es gibt ja noch \"subnormale\" Zahlen:"
   ]
  },
  {
   "cell_type": "code",
   "execution_count": 13,
   "id": "2501489e",
   "metadata": {},
   "outputs": [
    {
     "data": {
      "text/plain": [
       "5.562684646268003e-309"
      ]
     },
     "execution_count": 13,
     "metadata": {},
     "output_type": "execute_result"
    }
   ],
   "source": [
    "sys.float_info.min / 4"
   ]
  },
  {
   "cell_type": "markdown",
   "id": "4ed9bed8",
   "metadata": {},
   "source": [
    "Die subnormalen Zahlen zeichnen sich dadurch aus, dass sie nicht Null sind, aber ihr Kehrwert in Gleitkommaarithmetik ist $\\infty$:"
   ]
  },
  {
   "cell_type": "code",
   "execution_count": 14,
   "id": "4e18fcfe",
   "metadata": {},
   "outputs": [
    {
     "data": {
      "text/plain": [
       "inf"
      ]
     },
     "execution_count": 14,
     "metadata": {},
     "output_type": "execute_result"
    }
   ],
   "source": [
    "1 / (sys.float_info.min/4)"
   ]
  }
 ],
 "metadata": {
  "kernelspec": {
   "display_name": "Python 3 (ipykernel)",
   "language": "python",
   "name": "python3"
  },
  "language_info": {
   "codemirror_mode": {
    "name": "ipython",
    "version": 3
   },
   "file_extension": ".py",
   "mimetype": "text/x-python",
   "name": "python",
   "nbconvert_exporter": "python",
   "pygments_lexer": "ipython3",
   "version": "3.10.6"
  }
 },
 "nbformat": 4,
 "nbformat_minor": 5
}
