{
 "cells": [
  {
   "cell_type": "markdown",
   "id": "ace4301e",
   "metadata": {},
   "source": [
    "# Schleifen\n",
    "\n",
    "Es kommt häufig vor, dass eine Rechenoperation (etwa: Anwendung einer Funktion) auf eine Liste von Daten (etwa: $x$-Werte beim Plotten) anzuwenden ist, oder dass eine Rechenoperation iterativ anzuwenden ist. Dafür kann man Schleifen benutzen.\n",
    "\n",
    "Wenn die Rechenoperation in einem `Codeblock` dargestellt ist, würde man beispielsweise \"*für alle $k$ von $1$ bis $n$*\" den `Codeblock` ausführen wollen. Anders als in der Programmiersprache C oder Pascal werden in Python Codeblöcke nicht durch Klammern gekennzeichnet, sondern durch eine Einrückung (meist um einen Tab oder um 4 Leerzeichen). Der Codeblock endet, wenn auch die Einrückung endet.\n",
    "\n",
    "\"*von $1$ bis $n$*\" drückt man in Python durch einen so genannten `range` aus. Aus dem Notebook über Plotting kennen Sie `numpy.arange`, und ein `range` in Python funktioniert sehr ähnlich: Man definiert einen Startwert $a$, einen Endwert $b$ (wobei der `range` endet, *bevor*  $b$ erreicht wird.\n",
    "\n",
    "Optional gibt man eine Schrittweite vor, die auch negativ sein kann; gibt man sie nicht vor, wird die Schrittweite $1$ verwendet.\n",
    "\n",
    "Auch den Startwert kann man weglassen, dann wird $a=0$ angenommen. Statt `range(0,b,1)` kann man also einfach `range(b)` schreiben.\n",
    "\n",
    "Lassen wir uns etwa die Liste der $k^2$ für $k$ von $0$ bis $5$ anzeigen:"
   ]
  },
  {
   "cell_type": "code",
   "execution_count": 1,
   "id": "0510af53",
   "metadata": {},
   "outputs": [
    {
     "name": "stdout",
     "output_type": "stream",
     "text": [
      "Das Quadrat von 0 ist 0\n",
      "Das Quadrat von 1 ist 1\n",
      "Das Quadrat von 2 ist 4\n",
      "Das Quadrat von 3 ist 9\n",
      "Das Quadrat von 4 ist 16\n",
      "Das Quadrat von 5 ist 25\n",
      "Fertig\n"
     ]
    }
   ],
   "source": [
    "for k in range(6):  # das letzte Element des range ist 5, nicht 6!!\n",
    "    print( \"Das Quadrat von\", k, \"ist\", k**2 )  # Beachte die Einrückung\n",
    "print(\"Fertig\")     # Keine Einrückung mehr, also gehört diese Zeile nicht mehr zur Schleife"
   ]
  },
  {
   "cell_type": "markdown",
   "id": "b2057b7a",
   "metadata": {},
   "source": [
    "Durch Wahl einer geeigneten Schrittweite lassen wir uns die geraden Quadratzahlen von $10^2$ bis $0^2$ anzeigen:"
   ]
  },
  {
   "cell_type": "code",
   "execution_count": 2,
   "id": "8f3c928e",
   "metadata": {},
   "outputs": [
    {
     "name": "stdout",
     "output_type": "stream",
     "text": [
      "10 zum Quadrat ist 100\n",
      "8 zum Quadrat ist 64\n",
      "6 zum Quadrat ist 36\n",
      "4 zum Quadrat ist 16\n",
      "2 zum Quadrat ist 4\n",
      "0 zum Quadrat ist 0\n",
      "Fertig\n"
     ]
    }
   ],
   "source": [
    "for k in range(10, -1, -2):  # das letzte Element vor Erreichen von b=-1 ist 0\n",
    "    print( k,\"zum Quadrat ist\", k**2)\n",
    "print(\"Fertig\")"
   ]
  },
  {
   "cell_type": "markdown",
   "id": "8501034d",
   "metadata": {},
   "source": [
    "# Summation\n",
    "\n",
    "Nicht selten hat man eine Liste von Zahlen und soll sie aufsummieren oder aufmultiplizieren. Nun, dazu sollten wir uns zunächst einmal eine solche Liste definieren. In Python erkennt man Listen an eckigen Klammern, `[...]`, wobei die Einträge der Elemente durch Kommas getrennt sind.\n",
    "\n",
    "Anders als bei Mengen wird in Listen die Reihenfolge der Elemente berücksichtigt, Elemente dürfen sich auch wiederholen. Es wird eine sehr ähnliche Sprechweise wie in der Mathematik verwendet: \"Die Liste der $k^2$ für $k$ von $1$ bis $5$\" ist also"
   ]
  },
  {
   "cell_type": "code",
   "execution_count": 3,
   "id": "b34a2bce",
   "metadata": {},
   "outputs": [
    {
     "data": {
      "text/plain": [
       "[1, 4, 9, 16, 25]"
      ]
     },
     "execution_count": 3,
     "metadata": {},
     "output_type": "execute_result"
    }
   ],
   "source": [
    "Q = [ k**2 for k in range( 1, 6 ) ]\n",
    "Q"
   ]
  },
  {
   "cell_type": "markdown",
   "id": "add279bf",
   "metadata": {},
   "source": [
    "und die Menge der rückwärts sortierten Quadratzahlen von $5$ bis $1$ ist"
   ]
  },
  {
   "cell_type": "code",
   "execution_count": 4,
   "id": "e08ed971",
   "metadata": {},
   "outputs": [
    {
     "data": {
      "text/plain": [
       "[25, 16, 9, 4, 1]"
      ]
     },
     "execution_count": 4,
     "metadata": {},
     "output_type": "execute_result"
    }
   ],
   "source": [
    "Qr = [ k**2 for k in range( 5, 0, -1 ) ]\n",
    "Qr"
   ]
  },
  {
   "cell_type": "markdown",
   "id": "86e2ddb4",
   "metadata": {},
   "source": [
    "Wie kann man eine Summe einer Liste von Zahlen berechnen? Nun, das kann man grundsätzlich machen, indem man die Summe mit $0$ beginnt und dann ein Listenelement nach dem anderen dazu addiert.\n",
    "\n",
    "Dieses \"dazu addieren\" von einem Element `e` zur `Summe` kann man einerseits in der Form `Summe = Summe + e` ausdrücken (der alte Wert von `Summe` wird durch den Wert auf der rechten Seite überschrieben) oder in der Kurzform `Summe += e`. Wir könnten also über `Q` wie folgt summieren:"
   ]
  },
  {
   "cell_type": "code",
   "execution_count": 5,
   "id": "f20b69c5",
   "metadata": {},
   "outputs": [
    {
     "data": {
      "text/plain": [
       "55"
      ]
     },
     "execution_count": 5,
     "metadata": {},
     "output_type": "execute_result"
    }
   ],
   "source": [
    "Summe = 0\n",
    "for e in Q:\n",
    "    Summe += e\n",
    "Summe"
   ]
  },
  {
   "cell_type": "markdown",
   "id": "09fb1f3f",
   "metadata": {},
   "source": [
    "Für solch häufige Anforderungen wie das Aufsummieren gibt es natürlich in Python fertige Lösungen, nämlich die FUnktion `sum()`. Man kann sie auf eine bereits fertige Liste anwenden..."
   ]
  },
  {
   "cell_type": "code",
   "execution_count": 6,
   "id": "e0bf37b1",
   "metadata": {},
   "outputs": [
    {
     "data": {
      "text/plain": [
       "55"
      ]
     },
     "execution_count": 6,
     "metadata": {},
     "output_type": "execute_result"
    }
   ],
   "source": [
    "sum( Q )"
   ]
  },
  {
   "cell_type": "markdown",
   "id": "6212c36a",
   "metadata": {},
   "source": [
    "oder man kann eine Syntax sehr nah an der mathematischen Sprechweise (\"*Summe über $k^2$ für $k$ von $1$ bis $5$*\") verwenden:"
   ]
  },
  {
   "cell_type": "code",
   "execution_count": 7,
   "id": "a518c93c",
   "metadata": {},
   "outputs": [
    {
     "data": {
      "text/plain": [
       "55"
      ]
     },
     "execution_count": 7,
     "metadata": {},
     "output_type": "execute_result"
    }
   ],
   "source": [
    "sum( k**2 for k in range( 1, 6 ) )"
   ]
  },
  {
   "cell_type": "markdown",
   "id": "9d964054",
   "metadata": {},
   "source": [
    "Seltsamerweise wurde es [abgelehnt, eine `prod()`-Funktion im Standardumfang von Python zu definieren](https://bugs.python.org/issue1093). Aber im `math`-Paket wird man fündig:"
   ]
  },
  {
   "cell_type": "code",
   "execution_count": 8,
   "id": "335d0ec4",
   "metadata": {},
   "outputs": [
    {
     "data": {
      "text/plain": [
       "120"
      ]
     },
     "execution_count": 8,
     "metadata": {},
     "output_type": "execute_result"
    }
   ],
   "source": [
    "import math\n",
    "math.prod( k for k in range(1, 6) ) # sollte \"1*2*3*4*5\" ergeben, also die Fakultät von 5"
   ]
  },
  {
   "cell_type": "markdown",
   "id": "1f2515e9",
   "metadata": {},
   "source": [
    "# Zusammenfassung\n",
    "\n",
    "Wir prüfen für alle $n$ von $0$ bis $10$, ob es wirklich zutrifft, dass die Summe der ersten $n$ Quadratzahlen gleich $\\frac16n(n+1)(2n+1)$ ist:"
   ]
  },
  {
   "cell_type": "code",
   "execution_count": 9,
   "id": "1cd6c731",
   "metadata": {},
   "outputs": [
    {
     "name": "stdout",
     "output_type": "stream",
     "text": [
      "n = 0 liefert 0 bzw. 0.0\n",
      "n = 1 liefert 1 bzw. 1.0\n",
      "n = 2 liefert 5 bzw. 5.0\n",
      "n = 3 liefert 14 bzw. 14.0\n",
      "n = 4 liefert 30 bzw. 30.0\n",
      "n = 5 liefert 55 bzw. 55.0\n",
      "n = 6 liefert 91 bzw. 91.0\n",
      "n = 7 liefert 140 bzw. 140.0\n",
      "n = 8 liefert 204 bzw. 204.0\n",
      "n = 9 liefert 285 bzw. 285.0\n",
      "n = 10 liefert 385 bzw. 385.0\n"
     ]
    }
   ],
   "source": [
    "for n in range( 11 ):\n",
    "    print( \"n =\", n, \"liefert\", sum( k**2 for k in range( n+1 ) ), # Zu lange Zeilen kann man umbrechen\n",
    "          \"bzw.\", n*(n+1)*(2*n+1)/6 ) # \"/\" ergibt bekanntlich eine Gleitkommazahl!"
   ]
  },
  {
   "cell_type": "code",
   "execution_count": null,
   "id": "b6a0f28d",
   "metadata": {},
   "outputs": [],
   "source": []
  }
 ],
 "metadata": {
  "kernelspec": {
   "display_name": "Python 3 (ipykernel)",
   "language": "python",
   "name": "python3"
  },
  "language_info": {
   "codemirror_mode": {
    "name": "ipython",
    "version": 3
   },
   "file_extension": ".py",
   "mimetype": "text/x-python",
   "name": "python",
   "nbconvert_exporter": "python",
   "pygments_lexer": "ipython3",
   "version": "3.10.6"
  }
 },
 "nbformat": 4,
 "nbformat_minor": 5
}
