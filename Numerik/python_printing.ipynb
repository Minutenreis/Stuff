{
 "cells": [
  {
   "cell_type": "markdown",
   "id": "27ac97fd",
   "metadata": {},
   "source": [
    "# Schönere Datendarstellung mit \"Format Strings\"\n",
    "\n",
    "Möchte man eine Liste von Daten ausgeben, ist es für die Lesbarkeit bisweilen von Vorteil, sie zu formatieren, also sie beispielsweise rechtsbündig als Festkommazahl anzuzeigen. Für diese und andere Zwecke kann man so genannte \"format strings\" verwenden.\n",
    "\n",
    "## Einfache Syntax\n",
    "\n",
    "Im einfachsten Fall stehen in einem format string einige Paare geschweifter Klammern `{}` als Platzhalter, in die man mit einem an den String angefügten `.format(a,b,c,...)` die Argumente `a,b,c,...` einsetzen kann. Steht in dem Klammerpaar eine Zahl, so nimmt diese Bezug auf ein bestimmtes Argument, wobei man bei $0$ zu zählen beginnt. In manchen Beispielen verwende ich Brüche, daher importiere ich `Fraction`."
   ]
  },
  {
   "cell_type": "code",
   "execution_count": 1,
   "id": "2576e3bc",
   "metadata": {},
   "outputs": [],
   "source": [
    "from fractions import Fraction"
   ]
  },
  {
   "cell_type": "code",
   "execution_count": 2,
   "id": "b554c566",
   "metadata": {},
   "outputs": [
    {
     "name": "stdout",
     "output_type": "stream",
     "text": [
      "3/5 entspricht dem Bruch 3 durch 5\n",
      "3 durch 5 ist gleich 3/5\n"
     ]
    }
   ],
   "source": [
    "print( \"{} entspricht dem Bruch {} durch {}\".format( Fraction( 3, 5 ), 3, 5 ) )\n",
    "print( \"{1} durch {2} ist gleich {0}\".format( Fraction( 3, 5 ), 3, 5 ) )"
   ]
  },
  {
   "cell_type": "markdown",
   "id": "f621ce41",
   "metadata": {},
   "source": [
    "In einem anderen Notebook geht es um exaktes Rechnen, und dort ist auch erwähnt, dass es ein Unterschied ist, ob man ein `Fraction` einfach nur als Ausgabe einer Zelle anzeigt oder mit der `print()`-Funktion darstellt. In einem format string kann man mit `{!r}` erzwingen, dass die \"Zellenausgabe\" statt die \"Printausgabe\" angezeigt wird:"
   ]
  },
  {
   "cell_type": "code",
   "execution_count": 3,
   "id": "bacc589b",
   "metadata": {},
   "outputs": [
    {
     "name": "stdout",
     "output_type": "stream",
     "text": [
      "Fraction(3, 5) wird normalerweise als 3/5 geprintet.\n"
     ]
    }
   ],
   "source": [
    "print( \"{0!r} wird normalerweise als {0} geprintet.\".format( Fraction ( 3, 5 ) ) )"
   ]
  },
  {
   "cell_type": "markdown",
   "id": "34f539e6",
   "metadata": {},
   "source": [
    "Gleitkommazahlen werden normalerweise nur dann im Festkommaformat angezeigt, wenn der Exponent nicht zu groß und nicht zu klein ist:"
   ]
  },
  {
   "cell_type": "code",
   "execution_count": 4,
   "id": "e5bd1a33",
   "metadata": {},
   "outputs": [
    {
     "data": {
      "text/plain": [
       "0.000123"
      ]
     },
     "execution_count": 4,
     "metadata": {},
     "output_type": "execute_result"
    }
   ],
   "source": [
    "1.23e-4"
   ]
  },
  {
   "cell_type": "code",
   "execution_count": 5,
   "id": "020395aa",
   "metadata": {},
   "outputs": [
    {
     "data": {
      "text/plain": [
       "1.23e-05"
      ]
     },
     "execution_count": 5,
     "metadata": {},
     "output_type": "execute_result"
    }
   ],
   "source": [
    "1.23e-5"
   ]
  },
  {
   "cell_type": "code",
   "execution_count": 6,
   "id": "e861e770",
   "metadata": {},
   "outputs": [
    {
     "data": {
      "text/plain": [
       "1230000000000000.0"
      ]
     },
     "execution_count": 6,
     "metadata": {},
     "output_type": "execute_result"
    }
   ],
   "source": [
    "1.23e15"
   ]
  },
  {
   "cell_type": "code",
   "execution_count": 7,
   "id": "b34fe6fe",
   "metadata": {},
   "outputs": [
    {
     "data": {
      "text/plain": [
       "1.23e+16"
      ]
     },
     "execution_count": 7,
     "metadata": {},
     "output_type": "execute_result"
    }
   ],
   "source": [
    "1.23e16"
   ]
  },
  {
   "cell_type": "markdown",
   "id": "45c63bb9",
   "metadata": {},
   "source": [
    "In einem format string kann man erzwingen, dass ein Zahltyp als eine Festkommazahl mit einer bestimmten Anzahl von Nachkommastellen angezeigt wird. Will man Tabellenwerte anzeigen, ist es zudem nützlich, auch eine gemeinsame Anzahl von Vorkommastellen anzugeben, so dass eine linksbündige Anzeige zumindest dann möglich ist, wenn die tatsächliche Gesamtstellenzahl nicht zu groß ist. Wenn es einschließlich des Dezimalpunkts und ggf. vorangestellten Leerzeichen mindestens `k` angezeigte Stellen geben und dabei auf `d` Nachkommastellen gerundet werden soll, verwendet man `{:k.df}`:"
   ]
  },
  {
   "cell_type": "code",
   "execution_count": 8,
   "id": "8b3ec452",
   "metadata": {},
   "outputs": [
    {
     "name": "stdout",
     "output_type": "stream",
     "text": [
      "    0.6667\n",
      "  123.4500\n",
      "1234567.8900\n"
     ]
    }
   ],
   "source": [
    "print( \"{:10.4f}\".format( 2/3 ) ) # Man beachte: Es wird auf 4 Nachkommastellen gerundet\n",
    "print( \"{:10.4f}\".format( 123.45 ) )\n",
    "print( \"{:10.4f}\".format( 1234567.89 ) ) # Es gibt insgesamt mehr als 10 Stellen"
   ]
  },
  {
   "cell_type": "markdown",
   "id": "245f9bd1",
   "metadata": {},
   "source": [
    "Beachten Sie dabei (wie in einem anderen Notebook dargestellt), dass Python bisweilen nicht *mathematisch*, sondern *kaufmännisch* zu runden scheint (was aber an der intern verwendeten Binär- statt Dezimaldarstellung liegt):"
   ]
  },
  {
   "cell_type": "code",
   "execution_count": 9,
   "id": "9f13c064",
   "metadata": {},
   "outputs": [
    {
     "name": "stdout",
     "output_type": "stream",
     "text": [
      "    1.2345\n",
      " 1234.5\n",
      "12344\n"
     ]
    }
   ],
   "source": [
    "print( \"{:10.4f}\".format( 1.234450 ) ) # Unerwünscht!!\n",
    "print( \"{:7.1f}\".format( 1234.450 ) ) # Unterwunscht!!\n",
    "print( \"{:5.0f}\".format( 12344.5 ) ) # Erwünscht"
   ]
  },
  {
   "cell_type": "markdown",
   "id": "d4596823",
   "metadata": {},
   "source": [
    "## Fortgeschrittene Syntax\n",
    "\n",
    "Ab Python Version 3.6 ist eine noch flexiblere Verwendung von format strings möglich. Also testen wir zunächst die Python-Version:"
   ]
  },
  {
   "cell_type": "code",
   "execution_count": 10,
   "id": "72eef838",
   "metadata": {},
   "outputs": [
    {
     "name": "stdout",
     "output_type": "stream",
     "text": [
      "3.10.6 (main, Mar 10 2023, 10:55:28) [GCC 11.3.0]\n"
     ]
    }
   ],
   "source": [
    "import sys\n",
    "print(sys.version)"
   ]
  },
  {
   "cell_type": "markdown",
   "id": "17f18444",
   "metadata": {},
   "source": [
    "Format Strings können erzeugt werden, indem man vor die öffnenden Anführungsstriche des Strings ein `f` setzt. In geschweiften Klammern kann man auf beliebige Variablennamen Bezug nehmen und auch Funktionen ausführen; nach einem Doppelpunkt kann dann sogar noch ein Format für die tabellarische Anzeige definiert werden. Ein `.format(...)` ist dabei nicht mehr nötig, aber immer noch möglich (das zeige ich hier nicht).\n",
    "\n",
    "Übrigens: Sogar in der Formatspezifikation kann man noch auf Variablen Bezug nehmen. Will man also auf `d` Nachkommastellen runden, kann man `d` als Variable definieren und dann das Format in der Art `{:.{d}f}` festlegen.\n",
    "\n",
    "Wir nutzen nun die Rundungsfunktion aus `numpy`, da diese sich enger an die mathematische Rundung im Dezimalformat hält als die Standard-`round`-Funktion (aber auch numpy ist nicht perfekt, wie Sie in einem anderen Notebook sehen können)."
   ]
  },
  {
   "cell_type": "code",
   "execution_count": 11,
   "id": "d326de12",
   "metadata": {},
   "outputs": [],
   "source": [
    "a = 1.23445\n",
    "b = 111.23455\n",
    "d = 4"
   ]
  },
  {
   "cell_type": "code",
   "execution_count": 12,
   "id": "04a3bc6f",
   "metadata": {},
   "outputs": [],
   "source": [
    "import numpy as np"
   ]
  },
  {
   "cell_type": "code",
   "execution_count": 13,
   "id": "0fb1d78b",
   "metadata": {},
   "outputs": [
    {
     "name": "stdout",
     "output_type": "stream",
     "text": [
      "   1.2345 ist Pythons kaufmännische Rundung von 1.23445 auf 4 Nachkommastellen\n",
      "   1.2344 ist numpys mathematische Rundung von 1.23445 auf 4 Nachkommastellen\n",
      " 111.2345 ist Pythons half-to-odd Rundung von 111.23455 auf 4 Nachkommastellen\n",
      " 111.2346 ist numpys mathematische Rundung von 111.23455 auf 4 Nachkommastellen\n"
     ]
    }
   ],
   "source": [
    "print( f\"{a:9.{d}f} ist Pythons kaufmännische Rundung von {a} auf {d} Nachkommastellen\" )\n",
    "print( f\"{np.round( a, d ):9.{d}f} ist numpys mathematische Rundung von {a} auf {d} Nachkommastellen\" )\n",
    "print( f\"{b:9.{d}f} ist Pythons half-to-odd Rundung von {b} auf {d} Nachkommastellen\" )\n",
    "print( f\"{np.round( b, d ):9.{d}f} ist numpys mathematische Rundung von {b} auf {d} Nachkommastellen\" )"
   ]
  },
  {
   "cell_type": "markdown",
   "id": "502902c9",
   "metadata": {},
   "source": [
    "Ist statt einer Festkommadarstellung ausdrücklich eine Zahldarstellung in wissenschaftlicher Notation der dezimalen Mantissenlänge `d` erwünscht, kann man dies mit `{:.{d}e}` erreichen. Man muss dann leider damit leben, dass Python wieder kaufmännisch rundet:"
   ]
  },
  {
   "cell_type": "code",
   "execution_count": 14,
   "id": "18e07483",
   "metadata": {},
   "outputs": [
    {
     "name": "stdout",
     "output_type": "stream",
     "text": [
      "1.2345e+00: kaufmännisch gerundete Gleitkommazahl mit 4 Mantissen-Nachkommastellen\n"
     ]
    }
   ],
   "source": [
    "print( f\"{a:.{d}e}: kaufmännisch gerundete Gleitkommazahl mit {d} Mantissen-Nachkommastellen\")"
   ]
  }
 ],
 "metadata": {
  "kernelspec": {
   "display_name": "Python 3 (ipykernel)",
   "language": "python",
   "name": "python3"
  },
  "language_info": {
   "codemirror_mode": {
    "name": "ipython",
    "version": 3
   },
   "file_extension": ".py",
   "mimetype": "text/x-python",
   "name": "python",
   "nbconvert_exporter": "python",
   "pygments_lexer": "ipython3",
   "version": "3.8.10"
  }
 },
 "nbformat": 4,
 "nbformat_minor": 5
}
