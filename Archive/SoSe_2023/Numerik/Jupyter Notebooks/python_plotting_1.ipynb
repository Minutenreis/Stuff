{
 "cells": [
  {
   "attachments": {},
   "cell_type": "markdown",
   "id": "24038784",
   "metadata": {},
   "source": [
    "# Python und Plotting\n",
    "\n",
    "Am Ende dieses jupyter notebooks sollen Sie in der Lage sein, einfache Plots zu erstellen, wie für die ersten Programmieraufgaben benötigt.\n",
    "\n",
    "## Jupyter Notebook ausführen\n",
    "\n",
    "Ein Jupyter Notebook enthält Textfelder und Codefelder. Damit kann man in diesem Dokument Code ausführen. Dies funktioniert über einen Shortcut (z.B. `<Shift>-<return>`), den die Programmierumgebung vorgibt, oder gegebenenfalls über einen Playbutton, der sich in der Nähe eines Codefeldes befindet.\n",
    "\n",
    "Die Codefelder sind aufeinander aufbauend. Sobald also in einem oberen Codefeld etwas erstellt wurde oder ein Paket geladen wurde, kann darauf in allen späteren Codefeldern zugegriffen werden. Achten Sie beim Ausführen der Codefelder also auf die Reihenfolge.\n",
    "\n",
    "## Zuweisungen, Vergleiche und Arithmetik\n",
    "\n",
    "In Mathematikvorlesungen sahen Sie vermutlich bereits, dass ein Unterschied besteht zwischen einer Wertzuweisung (\"$x$ soll ab jetzt den Wert $5$ tragen\") und der Aussage, dass zwei Werte gleich sind (\"$x^2$ ist gleich $26$\", was nach der vorherigen Wertzuweisung eine falsche Aussage ist). Diesen Unterschied macht man auch in Programmiersprachen: Eine Zuweisung in Python erfolgt mit `=`, ein Test auf Gleichheit mit `==`.\n",
    "\n",
    "Man kann eine Variable natürlich erst verwenden, nachdem ihr ein Wert zugewiesen wurde. Also geben wir `x` einen Wert und danach können wir es anzeigen und Vergleiche durchführen:"
   ]
  },
  {
   "cell_type": "code",
   "execution_count": 1,
   "id": "1b44eee2",
   "metadata": {},
   "outputs": [
    {
     "data": {
      "text/plain": [
       "5"
      ]
     },
     "execution_count": 1,
     "metadata": {},
     "output_type": "execute_result"
    }
   ],
   "source": [
    "x = 5\n",
    "x"
   ]
  },
  {
   "attachments": {},
   "cell_type": "markdown",
   "id": "a0269c66",
   "metadata": {},
   "source": [
    "Übrigens, das Symbol `#` in einer Codezelle leitet einen Kommentar ein, der im Notebook sichtbar ist, aber im Code nicht weiter stört. Der Kommentar endet am Ende der Zeile.\n",
    "\n",
    "Will man sich in einer Zelle mehrere Dinge anzeigen lassen, sollte man die `print()`-Funktion verwenden, denn sonst wird jeweils nur die letzte Zeile der Zelle angezeigt."
   ]
  },
  {
   "cell_type": "code",
   "execution_count": 2,
   "id": "90131a48",
   "metadata": {},
   "outputs": [
    {
     "name": "stdout",
     "output_type": "stream",
     "text": [
      "True\n",
      "False\n",
      "True\n"
     ]
    }
   ],
   "source": [
    "print( x == 5 )\n",
    "print( x < 4 )\n",
    "print( x >= 5 )  # Kommentar: Dies testet, ob x größer oder gleich 5 ist."
   ]
  },
  {
   "attachments": {},
   "cell_type": "markdown",
   "id": "15a133f2",
   "metadata": {},
   "source": [
    "Es geht in der Numerik um Zahlen, und dafür gibt es in Python verschiedene Datentypen. Den Typ eines Objekts fragt man mit `type()` ab. Ganze Zahlen kann man wie gewohnt angeben. Tritt in der Zahl ein Dezimalpunkt auf, wird sie als Gleitkommazahl (genauer: `double precision` nach dem Standard IEEE 754) aufgefasst. Um exakte und gerundete Arithmetik in Python wird es in anderen Notebooks gehen.\n",
    "\n",
    "Bei dieser Gelegenheit mehr zur `print()`-Funktion: Gibt man mehrere durch Komma getrennte Daten an, werden alle nacheinander angezeigt, durch ein Leerzeichen getrennt. Einfachen Text setzt man in Anführungszeichen, `\"...\"` oder `'...'`."
   ]
  },
  {
   "cell_type": "code",
   "execution_count": 3,
   "id": "0855e059",
   "metadata": {},
   "outputs": [
    {
     "name": "stdout",
     "output_type": "stream",
     "text": [
      "25 hat den Typ <class 'int'>\n",
      "25.0 hat den Typ <class 'float'>\n",
      "Ein Text hat den Typ <class 'str'>\n"
     ]
    }
   ],
   "source": [
    "print( 25, \"hat den Typ\", type( 25 ) )\n",
    "print( 25., \"hat den Typ\", type( 25. ) )\n",
    "print( 'Ein Text', \"hat den Typ\", type( 'Ein Text' ) )"
   ]
  },
  {
   "attachments": {},
   "cell_type": "markdown",
   "id": "2a71b6a0",
   "metadata": {},
   "source": [
    "Man kann ein Objekt eines bestimmten Typs auch gezielt erzeugen. Wendet man `float()` auf einen `int` an, entsteht eine Gleitkommazahl des entsprechenden Wertes. Wendet man hingegen `int()` auf eine Gleitkommazahl an, entsteht ein `int` **durch simples Abschneiden der Nachkommastellen** (so wollen wir natürlich normalerweise *nicht* runden!!):"
   ]
  },
  {
   "cell_type": "code",
   "execution_count": 4,
   "id": "ec11c80e",
   "metadata": {},
   "outputs": [
    {
     "name": "stdout",
     "output_type": "stream",
     "text": [
      "3.0\n",
      "-3\n",
      "7\n"
     ]
    }
   ],
   "source": [
    "print( float( 3 ) )\n",
    "print( int( -3.9 ) )\n",
    "print( int( 7.999 ) )"
   ]
  },
  {
   "attachments": {},
   "cell_type": "markdown",
   "id": "bf053296",
   "metadata": {},
   "source": [
    "Zahlen addiert, subtrahiert, multipliziert und dividiert man mit `+`, `-`, `*`, `/`. Man kann dabei mehrere Typen von Zahlen mischen."
   ]
  },
  {
   "cell_type": "code",
   "execution_count": 5,
   "id": "a9b00238",
   "metadata": {},
   "outputs": [
    {
     "name": "stdout",
     "output_type": "stream",
     "text": [
      "5\n",
      "-1.0\n",
      "2.0\n",
      "0.2857142857142857\n"
     ]
    }
   ],
   "source": [
    "print( 2 + 3 )\n",
    "print( 3 - 4. ) # int minus float ist ein float!\n",
    "print( 4 / 2 ) # Bei Division zweier int entsteht ein float\n",
    "print( 22 / 77 ) # ... der gerundet ist."
   ]
  },
  {
   "attachments": {},
   "cell_type": "markdown",
   "id": "ea8a50e9",
   "metadata": {},
   "source": [
    "**Vorsicht**: Für das Exponenzieren verwendet man in Python einen Doppelstern, `**`. In SageMath (dessen Sprache im Wesentlichen auf Python basiert) ist es auch möglich, das eher gewohnte Symbol `^` zu verwenden. Aber in Python ohne SageMath bedeutet `^` stattdessen das \"bitweise exklusive oder\", auf das ich hier nicht eingehen möchte. Gewöhnen Sie sich also an `**`."
   ]
  },
  {
   "cell_type": "code",
   "execution_count": 6,
   "id": "998bf44d",
   "metadata": {},
   "outputs": [
    {
     "name": "stdout",
     "output_type": "stream",
     "text": [
      "243\n",
      "Wurzel aus 3: 1.7320508075688772\n",
      "Wurzel aus 3 zum Quadrat: 2.9999999999999996\n"
     ]
    }
   ],
   "source": [
    "print( 3**5 )\n",
    "print( \"Wurzel aus 3:\", 3**(1/2) )\n",
    "print( \"Wurzel aus 3 zum Quadrat:\", ( 3**(1/2) ) ** 2 ) # Man beachte den Rundungsfehler!"
   ]
  },
  {
   "attachments": {},
   "cell_type": "markdown",
   "id": "a2fe3ec9",
   "metadata": {},
   "source": [
    "Ein Computeralgebrasystem kann möglicherweise durch symbolisches Rechnen erkennen, dass das Quadrat der Wurzel aus 3 gleich 3 ist - doch das ist in der Numerik nicht erwünscht: Der Computer soll eine Formel nicht ohne expliziten Auftrag durch den Mensch verändern! Mehr zum Thema \"Rundung\" in späteren Notebooks.\n",
    "\n",
    "## Numpy Arrays\n",
    "\n",
    "In numerischen Algorithmen, aber auch bei der graphischen Darstellung von Funktionen, ist es oft vonnöten, die gleichen arithmetischen Operationen bzw. Funktionsauswertungen auf eine Liste von Zahlen anzuwenden. Man hat beispielsweise eine Liste von $x$-Werten, erhält durch Funktionsauswertung die zugehörigen $y$-Werte, und erhält durch die Liste von Punkten (die vielleicht noch durch einen Streckenzug verbunden werden) eine Darstellung des Funktionsgraphen.\n",
    "\n",
    "All dies ist mit **numpy arrays** komfortabel möglich. Doch um diese verwenden zu können, müssen wir zuerst das Paket \"numpy\" laden (\"importieren\"). Dazu würde `import numpy` genügen, doch dann müssten wir im folgenden immer `numpy` als ganzes Wort schreiben. Es ist aber möglich, beim Importieren gleich einen abkürzenden Namen festzulegen, etwa `np` (auch üblich wäre die Abkürzung `num`). Dies geht so:"
   ]
  },
  {
   "cell_type": "code",
   "execution_count": 7,
   "id": "d0af4f5a",
   "metadata": {},
   "outputs": [],
   "source": [
    "import numpy as np"
   ]
  },
  {
   "attachments": {},
   "cell_type": "markdown",
   "id": "9674f2f7",
   "metadata": {},
   "source": [
    "Dieses Notebook soll nicht zu lang werden und wir wollen möglichst schnell zur Darstellung von Funktionsgraphen kommen. Daher verschiebe ich allgemeine Python-Listen auf ein anderes Notebook.\n",
    "\n",
    "Beim Plotten ist es sinnvoll, in einem Intervall $[a,b]$ (auf der x-Achse) Auswertungsstellen mit vorgegebener Schrittweite  zu verteilen. Das geht in numpy die Funktion `arange(a, b, Schrittweite)`: Es entsteht ein array, das bei $a$ beginnt, weitere Zahlen im Abstand `Schrittweite` enthält und mit der letzten Zahl endet, die kleiner als $b$ ist. Wenn man also möchte, dass $b$ noch in dem array enthalten ist, muss man in der `arange`-Funktion den Endwert ggf. leicht vergrößern.\n",
    "\n",
    "Will man die Funktion \"fkt\" aus dem Paket \"pkt\" verwenden, kann man dies mit der Syntax `pkt.fkt` tun. Wir wollen `arange` verwenden, also sagen wir:"
   ]
  },
  {
   "cell_type": "code",
   "execution_count": 8,
   "id": "d5a7f3bc",
   "metadata": {},
   "outputs": [
    {
     "name": "stdout",
     "output_type": "stream",
     "text": [
      "[0.  0.1 0.2 0.3 0.4 0.5 0.6 0.7 0.8 0.9]\n",
      "[0.  0.1 0.2 0.3 0.4 0.5 0.6 0.7 0.8 0.9 1. ]\n"
     ]
    }
   ],
   "source": [
    "a = np.arange( 0, 1, 0.1 )\n",
    "print( a )\n",
    "print( np.arange( 0, 1.001, 0.1 ) )"
   ]
  },
  {
   "attachments": {},
   "cell_type": "markdown",
   "id": "404c5968",
   "metadata": {},
   "source": [
    "Setzt man ein array in eine Funktion ein (etwa in die Kosinus-Funktion aus `numpy`), wird die Funktion auf jedes einzelne Element des array angewendet; analog bei arithmetischen Operationen. Das ist sehr praktisch."
   ]
  },
  {
   "cell_type": "code",
   "execution_count": 9,
   "id": "3d0f1629",
   "metadata": {},
   "outputs": [
    {
     "name": "stdout",
     "output_type": "stream",
     "text": [
      "[1.         0.99500417 0.98006658 0.95533649 0.92106099 0.87758256\n",
      " 0.82533561 0.76484219 0.69670671 0.62160997]\n",
      "[0.   0.01 0.04 0.09 0.16 0.25 0.36 0.49 0.64 0.81]\n"
     ]
    }
   ],
   "source": [
    "print( np.cos(a) )\n",
    "print( a*a )"
   ]
  },
  {
   "attachments": {},
   "cell_type": "markdown",
   "id": "9fd39586",
   "metadata": {},
   "source": [
    "## Erstellen einfacher Plots\n",
    "\n",
    "Matplotlib ist ein Paket, mit dem man Visualisierungen von Graphen und Ähnlichem erzeugen kann. Das Paket kann man sowohl für 2D Darstellungen als auch für 3D verwenden.\n",
    "\n",
    "Wir verwenden hier das Unterpaket `matplotlib.pyplot`, importiert mit der Abkürzung `plt`."
   ]
  },
  {
   "cell_type": "code",
   "execution_count": 10,
   "id": "c343f872",
   "metadata": {},
   "outputs": [],
   "source": [
    "import matplotlib.pyplot as plt"
   ]
  },
  {
   "attachments": {},
   "cell_type": "markdown",
   "id": "fc5bb598",
   "metadata": {},
   "source": [
    "Schema für das Erstellen eines Plots: Mit `fig, ax = plt.subplots()` wird ein neuer Plot begonnen, wobei `subplots()` einerseits die noch zu füllende Abbildung `fig` und andererseits das zu der Abbildung gehörende Koordinatensystem `ax` zurück gibt.\n",
    "\n",
    "Man erstellt die Abbildung, indem man in das Koordinatensystem eine Liste von x- und y-Werten mit der Funktion `ax.plot()` einfügt. Im ersten Beispiel plotten wir das Polynom `0.5*x**3 - 3*x**2 + 1`, indem wir es elementweise auf das Array der x-Werte anwenden.\n",
    "\n",
    "Zuletzt zeigt man den Plot mit `plt.show( fig )` an:"
   ]
  },
  {
   "cell_type": "code",
   "execution_count": 11,
   "id": "d1ff9b28",
   "metadata": {},
   "outputs": [
    {
     "data": {
      "image/png": "[encoded data removed]",
      "text/plain": [
       "<Figure size 640x480 with 1 Axes>"
      ]
     },
     "metadata": {},
     "output_type": "display_data"
    }
   ],
   "source": [
    "fig, ax = plt.subplots()\n",
    "xrange = np.arange( 0, 5.1, 0.1 )\n",
    "ax.plot( xrange, 0.5*xrange**3 - 3*xrange**2 + 1 )\n",
    "plt.show( fig )"
   ]
  },
  {
   "attachments": {},
   "cell_type": "markdown",
   "id": "a0d800a5",
   "metadata": {},
   "source": [
    "Sie können die Abbildung speichern mit `plt.savefig('filename.fmt')`, wobei `'filename.fmt'` der Name einschließlich extension der Datei ist, in der der gerade bearbeitete Plot gespeichert werden soll. Das Bildformat richtet sich nach der Extension, also 'name.png', 'name.pdf', 'name.eps' und so weiter. Sie können auch durch Rechtsklick auf die Abbildung im Notebook ein Menü öffnen und dort \"Grafik speichern\" wählen.\n",
    "\n",
    "Wir wollen nun unsere Abbildungen etwas aufhübschen: Wir beschriften die Abbildung mit einer Legende (hier kann man übrigens LaTeX-Code benutzen), wählen eine andere Farbe (grün) und markieren die Auswertungsstellen mit einem Kreuz. Außerdem fügen wir ein Gitter ein.\n",
    "\n",
    "Und nicht zuletzt verwenden wir diesmal zur Auswertung eine Funktion. Dazu mehr im nächsten Notebook. Hier nur soviel: Eine einfache Funktion, die eine `Formel` auf die Variable `x` anwendet, kann man durch `lambda x: Formel` erzeugen. Für $0.5x^3-3x^2+1$ erhält man:"
   ]
  },
  {
   "cell_type": "code",
   "execution_count": 12,
   "id": "37dd04f2",
   "metadata": {},
   "outputs": [
    {
     "data": {
      "image/png": "[encoded data removed]",
      "text/plain": [
       "<Figure size 640x480 with 1 Axes>"
      ]
     },
     "metadata": {},
     "output_type": "display_data"
    }
   ],
   "source": [
    "fig, ax = plt.subplots()\n",
    "xrange = np.arange( 0, 5.1, 0.5 ) # Weniger Auswertungsstellen\n",
    "f = lambda x: 0.5*x**3 - 3*x**2 + 1 # Definition der Funktion\n",
    "# Im folgenden Plot werden mit '-x' an die Auswertungsstelle Kreuze gesetzt.\n",
    "# Man kann analog auch Kreise oder ähnliches setzen.\n",
    "ax.plot( xrange, f(xrange), '-x', color = 'green' )\n",
    "\n",
    "## In $...$ steht LaTeX-Code\n",
    "# Beschriftung der x-Achse\n",
    "ax.set_xlabel('$x$-Werte')\n",
    "# Beschriftung der y-Achse\n",
    "ax.set_ylabel('$y$ Werte')\n",
    "# Beschriftung der Darstellung\n",
    "ax.legend(['Plot von $0.5x^3-3x^2+1$'])\n",
    "# Gitter, um die Lesbarkeit zu vereinfachen\n",
    "plt.grid(True)\n",
    "plt.show( fig )"
   ]
  },
  {
   "attachments": {},
   "cell_type": "markdown",
   "id": "705d4e97",
   "metadata": {},
   "source": [
    "Wie man sieht, wird keine \"glatte\" Kurve, sondern ein Polygonzug dargestellt. Kompliziertere Plots werden wir in einem späteren Notebook behandeln."
   ]
  },
  {
   "attachments": {},
   "cell_type": "markdown",
   "id": "6f079281",
   "metadata": {},
   "source": [
    "# Nachtrag: Darstellung von Punktlisten\n",
    "\n",
    "Wir wissen nun, wie wir eine Liste von $x$-Werten und zugehörigen $y$-Werten darstellen können: Wir haben jeweils eine Liste (oder array) der Länge $n$ für die $x$- und für die $y$-Werte separat.\n",
    "\n",
    "Aber manchmal hat man eine Liste von $n$ Koordinatenpaaren, dann sind also die $x$- und $y$-Werte nicht getrennt. Hierfür hat `pyplot` leider keine fertige Lösung. Wir müssen also noch lernen, wie man bequem eine Liste von $n$ Paaren in ein Paar von Listen der Länge $n$ umwandelt.\n",
    "\n",
    "Dies geht mit der `zip`-Funktion, die allgemein zu gegebenen $k$ Listen der Länge $n$ als Ausgabe $n$ Listen der Länge $k$ macht."
   ]
  },
  {
   "cell_type": "code",
   "execution_count": 13,
   "id": "967cd0a7",
   "metadata": {},
   "outputs": [
    {
     "data": {
      "text/plain": [
       "<zip at 0x7f60372371c0>"
      ]
     },
     "execution_count": 13,
     "metadata": {},
     "output_type": "execute_result"
    }
   ],
   "source": [
    "zip( [1,2,3], [4,5,6] )"
   ]
  },
  {
   "attachments": {},
   "cell_type": "markdown",
   "id": "6ec55cf9",
   "metadata": {},
   "source": [
    "Wie man sieht, muss man die Ausgabe erst noch explizit in eine Liste verwandeln:"
   ]
  },
  {
   "cell_type": "code",
   "execution_count": 14,
   "id": "a82a0770",
   "metadata": {},
   "outputs": [
    {
     "data": {
      "text/plain": [
       "[(1, 4), (2, 5), (3, 6)]"
      ]
     },
     "execution_count": 14,
     "metadata": {},
     "output_type": "execute_result"
    }
   ],
   "source": [
    "L = list( zip( [1,2,3], [4,5,6] ) )\n",
    "L"
   ]
  },
  {
   "attachments": {},
   "cell_type": "markdown",
   "id": "878e92f5",
   "metadata": {},
   "source": [
    "Für die Rückumwandlung wäre es jetzt etwas mühsam, die drei eben erzeugten Paare separat abzutippen:"
   ]
  },
  {
   "cell_type": "code",
   "execution_count": 15,
   "id": "38ff6565",
   "metadata": {},
   "outputs": [
    {
     "data": {
      "text/plain": [
       "[(1, 2, 3), (4, 5, 6)]"
      ]
     },
     "execution_count": 15,
     "metadata": {},
     "output_type": "execute_result"
    }
   ],
   "source": [
    "list( zip( (1,4), (2,5), (3,6) ) )"
   ]
  },
  {
   "attachments": {},
   "cell_type": "markdown",
   "id": "d59dc134",
   "metadata": {},
   "source": [
    "Bequemer ist es, direkt mit `L` zu arbeiten. Problem: Wie macht man klar, dass man in die `zip`-Funktion nicht eine Liste, sondern den Inhalt der Liste als separate Eingabewerte sendet? Dafür gibt es die Notation `*L`:"
   ]
  },
  {
   "cell_type": "code",
   "execution_count": 16,
   "id": "85f88fd3",
   "metadata": {},
   "outputs": [
    {
     "data": {
      "text/plain": [
       "[(1, 2, 3), (4, 5, 6)]"
      ]
     },
     "execution_count": 16,
     "metadata": {},
     "output_type": "execute_result"
    }
   ],
   "source": [
    "list( zip( *L ) )"
   ]
  },
  {
   "attachments": {},
   "cell_type": "markdown",
   "id": "782f9a07",
   "metadata": {},
   "source": [
    "In dem folgenden Beispiel wollen wir $(\\sin(t),\\sin(2t))$ für $t\\in[0,2\\pi]$ graphisch darstellen.\n",
    "\n",
    "Lösungsidee:\n",
    "\n",
    " * Wir schreiben eine Funktion, die zu jedem $t$-Wert ein Koordinatenpaar zurückgibt. \n",
    " * Diese Funktion wenden wir auf die Elemente eines `arange` an und schreiben das Ergebnis in eine Liste `L`\n",
    " * Aus der Liste von Koordinatenpaaren machen wir mittels `list(zip(*L))` eine Liste von $x$- und eine Liste von $y$-Werten.\n",
    " * Diese beiden Listen stecken wir wie gewohnt in die `plot`-Funktion."
   ]
  },
  {
   "cell_type": "code",
   "execution_count": 17,
   "id": "37cda3b1",
   "metadata": {},
   "outputs": [],
   "source": [
    "from numpy import sin, pi\n",
    "xy = lambda t: ( sin( t ), sin( 2*t ) )"
   ]
  },
  {
   "cell_type": "code",
   "execution_count": 18,
   "id": "b2d95ff2",
   "metadata": {},
   "outputs": [],
   "source": [
    "L = [ xy( t ) for t in np.arange( 0, 2*pi+0.1, 0.05 ) ]"
   ]
  },
  {
   "cell_type": "code",
   "execution_count": 20,
   "id": "1bb9b110",
   "metadata": {},
   "outputs": [
    {
     "data": {
      "text/plain": [
       "array([0.  , 0.05, 0.1 , 0.15, 0.2 , 0.25, 0.3 , 0.35, 0.4 , 0.45, 0.5 ,\n",
       "       0.55, 0.6 , 0.65, 0.7 , 0.75, 0.8 , 0.85, 0.9 , 0.95, 1.  , 1.05,\n",
       "       1.1 , 1.15, 1.2 , 1.25, 1.3 , 1.35, 1.4 , 1.45, 1.5 , 1.55, 1.6 ,\n",
       "       1.65, 1.7 , 1.75, 1.8 , 1.85, 1.9 , 1.95, 2.  , 2.05, 2.1 , 2.15,\n",
       "       2.2 , 2.25, 2.3 , 2.35, 2.4 , 2.45, 2.5 , 2.55, 2.6 , 2.65, 2.7 ,\n",
       "       2.75, 2.8 , 2.85, 2.9 , 2.95, 3.  , 3.05, 3.1 , 3.15, 3.2 , 3.25,\n",
       "       3.3 , 3.35, 3.4 , 3.45, 3.5 , 3.55, 3.6 , 3.65, 3.7 , 3.75, 3.8 ,\n",
       "       3.85, 3.9 , 3.95, 4.  , 4.05, 4.1 , 4.15, 4.2 , 4.25, 4.3 , 4.35,\n",
       "       4.4 , 4.45, 4.5 , 4.55, 4.6 , 4.65, 4.7 , 4.75, 4.8 , 4.85, 4.9 ,\n",
       "       4.95, 5.  , 5.05, 5.1 , 5.15, 5.2 , 5.25, 5.3 , 5.35, 5.4 , 5.45,\n",
       "       5.5 , 5.55, 5.6 , 5.65, 5.7 , 5.75, 5.8 , 5.85, 5.9 , 5.95, 6.  ,\n",
       "       6.05, 6.1 , 6.15, 6.2 , 6.25, 6.3 , 6.35])"
      ]
     },
     "execution_count": 20,
     "metadata": {},
     "output_type": "execute_result"
    }
   ],
   "source": [
    "np.arange( 0, 2*pi+0.1, 0.05 )"
   ]
  },
  {
   "cell_type": "code",
   "execution_count": null,
   "id": "05036a92",
   "metadata": {},
   "outputs": [],
   "source": [
    "np.linspace(0,2*pi,100)"
   ]
  },
  {
   "cell_type": "code",
   "execution_count": 19,
   "id": "e055229a",
   "metadata": {},
   "outputs": [
    {
     "data": {
      "image/png": "[encoded data removed]",
      "text/plain": [
       "<Figure size 640x480 with 1 Axes>"
      ]
     },
     "metadata": {},
     "output_type": "display_data"
    }
   ],
   "source": [
    "fig, ax = plt.subplots()\n",
    "x, y = list( zip( *L ) )\n",
    "ax.plot( x, y )\n",
    "plt.show( fig )"
   ]
  },
  {
   "cell_type": "code",
   "execution_count": null,
   "id": "f9570d0d",
   "metadata": {},
   "outputs": [],
   "source": []
  }
 ],
 "metadata": {
  "kernelspec": {
   "display_name": "Python 3 (ipykernel)",
   "language": "python",
   "name": "python3"
  },
  "language_info": {
   "codemirror_mode": {
    "name": "ipython",
    "version": 3
   },
   "file_extension": ".py",
   "mimetype": "text/x-python",
   "name": "python",
   "nbconvert_exporter": "python",
   "pygments_lexer": "ipython3",
   "version": "3.10.11"
  }
 },
 "nbformat": 4,
 "nbformat_minor": 5
}
