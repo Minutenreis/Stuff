{
 "cells": [
  {
   "cell_type": "markdown",
   "id": "e14f578d",
   "metadata": {},
   "source": [
    "# Funktionen und andere Codeblöcke\n",
    "\n",
    "Bisher haben wir Funktionen in der Art `f = lambda x: <Formel>` definiert. Das ist gut geeignet, wenn die Funktion auf einer relativ simplen Formel basiert, aber sobald die Funktion auf einem komplexen Rechenverfahren basiert, reichen lambda-Funktionen nicht aus.\n",
    "\n",
    "Eine Funktionsdefinition in Python hat die Form `def f(x1, x2,...): <Codeblock>`, wobei im Codeblock ein Funktionswert mittels `return Wert` zurückgegeben wird. In vielen Sprachen (C, Pascal, ...) werden Codeblöcke durch Klammerpaare markiert. In Python hingegen kann man Codeblöcke durch eine Einrückung um 4 Leerzeichen oder einen Tab erkennen. Wenn der Block endet, muss man in der nächsten Zeile zur vorherigen Einrückung zurückkehren.\n",
    "\n",
    "Im Notebook und in vielen Texteditoren erfolgt die Einrückung übrigens automatisch, wenn syntaktisch klar ist, dass in der nächsten Zeile ein neuer Codeblock beginnt.\n",
    "\n",
    "### Definition und Argumente\n",
    "\n",
    "Eine Funktion, die $n!$ berechnet und die wir bisher als `f = lambda n: prod( k for k in range( 1, n+1 ) )` definiert hätten, sieht in der neuen Notation wie folgt aus:"
   ]
  },
  {
   "cell_type": "code",
   "execution_count": 1,
   "id": "3545a456",
   "metadata": {},
   "outputs": [],
   "source": [
    "from math import prod"
   ]
  },
  {
   "cell_type": "code",
   "execution_count": 2,
   "id": "73dffefd",
   "metadata": {},
   "outputs": [],
   "source": [
    "def f1 ( n ):\n",
    "    return prod( k for k in range( 1, n+1 ) )"
   ]
  },
  {
   "cell_type": "markdown",
   "id": "46a0d5e2",
   "metadata": {},
   "source": [
    "Nun, in diesem simplen Beispiel ist die alte Notation besser. Der erste Vorteil der neuen Definition ist, dass man innerhalb der Funktion die gerade definierte Funktion aufrufen kann und dadurch *Rekursion* möglich wird. Das entspricht der mathematischen Definition $0! := 1$ und $n! := (n-1)!\\cdot n$.\n",
    "\n",
    "In der rekursiven Definition von $n!$ ist eine Fallunterscheidung nötig. Diese erfolgt in Python mit `if <Bedingung>: <Codeblock> else: <Codeblock>`. Man kann auch fehlerhafte Eingaben prüfen. Da die Funktion nach einer Fehlermeldung oder nach einer Wertrückgabe verlassen wird, ist hier ein `else` nicht nötig, wir werden dies aber noch in späteren Beispielen verwenden.\n",
    "\n",
    "Einschließlich des Abfangens falscher Eingaben erhalten wir die Funktion:"
   ]
  },
  {
   "cell_type": "code",
   "execution_count": 3,
   "id": "9905d99d",
   "metadata": {},
   "outputs": [],
   "source": [
    "def f2 ( n ):\n",
    "    if n < 0:\n",
    "        raise ValueError( f\"({n})! ist nicht definiert: {n} < 0\" )\n",
    "    if n == 0:\n",
    "        return 1\n",
    "    return n * f2( n-1 )"
   ]
  },
  {
   "cell_type": "markdown",
   "id": "2ef0179f",
   "metadata": {},
   "source": [
    "Erläuterung: `raise ValueError(Fehlermeldung)` bewirkt, dass die Berechnung mit einem Fehler abgebrochen wird. Die Fehlermeldung wird dann angezeigt und zudem wird angezeigt, an welcher Stelle der Fehler auftrat.\n",
    "\n",
    "Prüfen wir, ob `f1` und `f2` übereinstimmen:"
   ]
  },
  {
   "cell_type": "code",
   "execution_count": 4,
   "id": "9de3e39b",
   "metadata": {},
   "outputs": [
    {
     "data": {
      "text/plain": [
       "24"
      ]
     },
     "execution_count": 4,
     "metadata": {},
     "output_type": "execute_result"
    }
   ],
   "source": [
    "f1( 4 )"
   ]
  },
  {
   "cell_type": "code",
   "execution_count": 5,
   "id": "b0a41007",
   "metadata": {},
   "outputs": [
    {
     "data": {
      "text/plain": [
       "24"
      ]
     },
     "execution_count": 5,
     "metadata": {},
     "output_type": "execute_result"
    }
   ],
   "source": [
    "f2( 4 )"
   ]
  },
  {
   "cell_type": "code",
   "execution_count": 6,
   "id": "550e6b9a",
   "metadata": {},
   "outputs": [
    {
     "data": {
      "text/plain": [
       "1"
      ]
     },
     "execution_count": 6,
     "metadata": {},
     "output_type": "execute_result"
    }
   ],
   "source": [
    "f1( -4 )"
   ]
  },
  {
   "cell_type": "code",
   "execution_count": 7,
   "id": "4ed5c16b",
   "metadata": {},
   "outputs": [
    {
     "ename": "ValueError",
     "evalue": "(-4)! ist nicht definiert: -4 < 0",
     "output_type": "error",
     "traceback": [
      "\u001b[0;31m---------------------------------------------------------------------------\u001b[0m",
      "\u001b[0;31mValueError\u001b[0m                                Traceback (most recent call last)",
      "Cell \u001b[0;32mIn [7], line 1\u001b[0m\n\u001b[0;32m----> 1\u001b[0m \u001b[43mf2\u001b[49m\u001b[43m(\u001b[49m\u001b[43m \u001b[49m\u001b[38;5;241;43m-\u001b[39;49m\u001b[38;5;241;43m4\u001b[39;49m\u001b[43m \u001b[49m\u001b[43m)\u001b[49m\n",
      "Cell \u001b[0;32mIn [3], line 3\u001b[0m, in \u001b[0;36mf2\u001b[0;34m(n)\u001b[0m\n\u001b[1;32m      1\u001b[0m \u001b[38;5;28;01mdef\u001b[39;00m \u001b[38;5;21mf2\u001b[39m ( n ):\n\u001b[1;32m      2\u001b[0m     \u001b[38;5;28;01mif\u001b[39;00m n \u001b[38;5;241m<\u001b[39m \u001b[38;5;241m0\u001b[39m:\n\u001b[0;32m----> 3\u001b[0m         \u001b[38;5;28;01mraise\u001b[39;00m \u001b[38;5;167;01mValueError\u001b[39;00m( \u001b[38;5;124mf\u001b[39m\u001b[38;5;124m\"\u001b[39m\u001b[38;5;124m(\u001b[39m\u001b[38;5;132;01m{\u001b[39;00mn\u001b[38;5;132;01m}\u001b[39;00m\u001b[38;5;124m)! ist nicht definiert: \u001b[39m\u001b[38;5;132;01m{\u001b[39;00mn\u001b[38;5;132;01m}\u001b[39;00m\u001b[38;5;124m < 0\u001b[39m\u001b[38;5;124m\"\u001b[39m )\n\u001b[1;32m      4\u001b[0m     \u001b[38;5;28;01mif\u001b[39;00m n \u001b[38;5;241m==\u001b[39m \u001b[38;5;241m0\u001b[39m:\n\u001b[1;32m      5\u001b[0m         \u001b[38;5;28;01mreturn\u001b[39;00m \u001b[38;5;241m1\u001b[39m\n",
      "\u001b[0;31mValueError\u001b[0m: (-4)! ist nicht definiert: -4 < 0"
     ]
    }
   ],
   "source": [
    "f2( -4 )"
   ]
  },
  {
   "cell_type": "markdown",
   "id": "398d9ad7",
   "metadata": {},
   "source": [
    "Wir sehen: Bei unsinniger Eingabe gibt die alte Definition einen Wert zurück, was nicht unbedingt erwünscht ist."
   ]
  },
  {
   "cell_type": "markdown",
   "id": "136fc4a5",
   "metadata": {},
   "source": [
    "Funktionen können mehrere Argumente haben. Wenn man die Funktion aufruft, genügt es, Werte der Argumente in der richtigen Reihenfolge anzugeben, es ist aber auch möglich, direkt den Namen des Arguments zu verwenden:"
   ]
  },
  {
   "cell_type": "code",
   "execution_count": 8,
   "id": "cbf2bfd0",
   "metadata": {},
   "outputs": [],
   "source": [
    "def potenziere( num1, num2 ):\n",
    "    return num1**num2"
   ]
  },
  {
   "cell_type": "code",
   "execution_count": 9,
   "id": "0c2fa0a0",
   "metadata": {},
   "outputs": [
    {
     "data": {
      "text/plain": [
       "8"
      ]
     },
     "execution_count": 9,
     "metadata": {},
     "output_type": "execute_result"
    }
   ],
   "source": [
    "potenziere( 2, 3 )"
   ]
  },
  {
   "cell_type": "code",
   "execution_count": 10,
   "id": "90514a64",
   "metadata": {},
   "outputs": [
    {
     "data": {
      "text/plain": [
       "9"
      ]
     },
     "execution_count": 10,
     "metadata": {},
     "output_type": "execute_result"
    }
   ],
   "source": [
    "potenziere( num2=2, num1=3 ) # beachte die geänderte Reihenfolge!"
   ]
  },
  {
   "cell_type": "markdown",
   "id": "28947a97",
   "metadata": {},
   "source": [
    "In der Funktionsdefinition kann man für die Argumente auch Standardwerte vorgeben. Diese werden beim Funktionsaufruf verwendet, es sei denn, sie werden explizit anders gesetzt."
   ]
  },
  {
   "cell_type": "code",
   "execution_count": 11,
   "id": "b77236a0",
   "metadata": {},
   "outputs": [],
   "source": [
    "def potenziere( num1, num2=2 ):\n",
    "    return num1**num2"
   ]
  },
  {
   "cell_type": "code",
   "execution_count": 12,
   "id": "63073e1a",
   "metadata": {},
   "outputs": [
    {
     "data": {
      "text/plain": [
       "4"
      ]
     },
     "execution_count": 12,
     "metadata": {},
     "output_type": "execute_result"
    }
   ],
   "source": [
    "potenziere( 2 )"
   ]
  },
  {
   "cell_type": "code",
   "execution_count": 13,
   "id": "5ac224df",
   "metadata": {},
   "outputs": [
    {
     "data": {
      "text/plain": [
       "8"
      ]
     },
     "execution_count": 13,
     "metadata": {},
     "output_type": "execute_result"
    }
   ],
   "source": [
    "potenziere( 2, 3 )"
   ]
  },
  {
   "cell_type": "markdown",
   "id": "e53271ae",
   "metadata": {},
   "source": [
    "Es ist mit der Syntax `def name( *args ): <Codeblock>` möglich, eine unbestimmte Anzahl von Argumenten zu erlauben. Die Argumente sind dann in `args` in der gegebenen Reihenfolge gespeichert, man kann mittels `for x in args: <Codeblock>` den Codeblock der Reihe nach für die gegebenen Argumente auswerten. Bei dieser Gelegenheit möchte ich auch noch `else` verwenden.\n",
    "\n",
    "Die folgende Funktion summiert getrennt alle gegebenen positiven und alle gegebenen negativen Argumente und gibt beide Summen zurück:"
   ]
  },
  {
   "cell_type": "code",
   "execution_count": 14,
   "id": "7fa9f1cd",
   "metadata": {},
   "outputs": [],
   "source": [
    "def positive_negative_summe( *args ):\n",
    "    result_pos = 0\n",
    "    result_neg = 0\n",
    "    for x in args:\n",
    "        if x>0:\n",
    "            result_pos += x\n",
    "        else:\n",
    "            result_neg += x\n",
    "    return result_pos, result_neg"
   ]
  },
  {
   "cell_type": "code",
   "execution_count": 15,
   "id": "5a320c11",
   "metadata": {},
   "outputs": [
    {
     "data": {
      "text/plain": [
       "(9, -5)"
      ]
     },
     "execution_count": 15,
     "metadata": {},
     "output_type": "execute_result"
    }
   ],
   "source": [
    "positive_negative_summe( -2, 2, 3, 4, -3 )"
   ]
  },
  {
   "cell_type": "markdown",
   "id": "1acc74be",
   "metadata": {},
   "source": [
    "### Seiteneffekte\n",
    "\n",
    "Eine außerhalb der Funktion definierte Variable kann innerhalb der Funktion verwendet werden. Dabei ist zu beachten, dass nicht etwa der Variablenwert zum Zeitpunkt der Funktionsdefinition verwendet wird, sondern der Variablenwert zum Zeitpunkt des Funktionsaufrufs:"
   ]
  },
  {
   "cell_type": "code",
   "execution_count": 16,
   "id": "280efb7f",
   "metadata": {},
   "outputs": [],
   "source": [
    "n = 3"
   ]
  },
  {
   "cell_type": "code",
   "execution_count": 17,
   "id": "8b0c3242",
   "metadata": {},
   "outputs": [],
   "source": [
    "def plus_n( k ):\n",
    "    return k+n"
   ]
  },
  {
   "cell_type": "code",
   "execution_count": 18,
   "id": "fd7979c6",
   "metadata": {},
   "outputs": [
    {
     "data": {
      "text/plain": [
       "7"
      ]
     },
     "execution_count": 18,
     "metadata": {},
     "output_type": "execute_result"
    }
   ],
   "source": [
    "plus_n( 4 )"
   ]
  },
  {
   "cell_type": "code",
   "execution_count": 19,
   "id": "bd271220",
   "metadata": {},
   "outputs": [],
   "source": [
    "n = 4"
   ]
  },
  {
   "cell_type": "code",
   "execution_count": 20,
   "id": "e329b237",
   "metadata": {},
   "outputs": [
    {
     "data": {
      "text/plain": [
       "8"
      ]
     },
     "execution_count": 20,
     "metadata": {},
     "output_type": "execute_result"
    }
   ],
   "source": [
    "plus_n( 4 )"
   ]
  },
  {
   "cell_type": "markdown",
   "id": "07253150",
   "metadata": {},
   "source": [
    "Eine Variablendefinition innerhalb der Funktion wirkt sich hingegen normalerweise außerhalb der Funktion nicht aus:"
   ]
  },
  {
   "cell_type": "code",
   "execution_count": 25,
   "id": "ca38014d",
   "metadata": {},
   "outputs": [],
   "source": [
    "def neues_n( k ):\n",
    "    n = k\n",
    "    print( f\"Neuer Wert: {n}\" )"
   ]
  },
  {
   "cell_type": "code",
   "execution_count": 26,
   "id": "54774b63",
   "metadata": {},
   "outputs": [
    {
     "data": {
      "text/plain": [
       "4"
      ]
     },
     "execution_count": 26,
     "metadata": {},
     "output_type": "execute_result"
    }
   ],
   "source": [
    "n"
   ]
  },
  {
   "cell_type": "code",
   "execution_count": 27,
   "id": "e5bf08f7",
   "metadata": {},
   "outputs": [
    {
     "name": "stdout",
     "output_type": "stream",
     "text": [
      "Neuer Wert: 17\n"
     ]
    }
   ],
   "source": [
    "neues_n( 17 )"
   ]
  },
  {
   "cell_type": "code",
   "execution_count": 29,
   "id": "aa98f6c2",
   "metadata": {},
   "outputs": [
    {
     "data": {
      "text/plain": [
       "4"
      ]
     },
     "execution_count": 29,
     "metadata": {},
     "output_type": "execute_result"
    }
   ],
   "source": [
    "n    # der Wert hat sich nur innerhalb der Funktion geändert"
   ]
  },
  {
   "cell_type": "markdown",
   "id": "2145e0d4",
   "metadata": {},
   "source": [
    "Wenn man wirklich will, dass der Wert einer Variable global geändert wird, muss man innerhalb der Funktion sagen, dass diese Variable `global` ist:"
   ]
  },
  {
   "cell_type": "code",
   "execution_count": 30,
   "id": "0f3a2df4",
   "metadata": {},
   "outputs": [],
   "source": [
    "def neues_n( k ):\n",
    "    global n\n",
    "    n = k\n",
    "    print( f\"Neuer Wert: {n}\" )"
   ]
  },
  {
   "cell_type": "code",
   "execution_count": 31,
   "id": "90fe0404",
   "metadata": {},
   "outputs": [
    {
     "name": "stdout",
     "output_type": "stream",
     "text": [
      "Neuer Wert: 2\n"
     ]
    }
   ],
   "source": [
    "neues_n( 2 )"
   ]
  },
  {
   "cell_type": "code",
   "execution_count": 32,
   "id": "3bf0120d",
   "metadata": {},
   "outputs": [
    {
     "data": {
      "text/plain": [
       "2"
      ]
     },
     "execution_count": 32,
     "metadata": {},
     "output_type": "execute_result"
    }
   ],
   "source": [
    "n"
   ]
  },
  {
   "cell_type": "markdown",
   "id": "dbbe4c91",
   "metadata": {},
   "source": [
    "**Man beachte:** Einige Datentypen in python, beispielsweise Listen, können am bestehenden Speicherort geändert werden (\"in place\"). Das hat zur Folge, dass in diesem Fall zwar die Variable gleich bleibt, der Inhalt der Variable sich aber ändert. Den Speicherort (ausgedrückt als Ganzzahl) einer Variable erhält man mit `id( Variable )`:"
   ]
  },
  {
   "cell_type": "code",
   "execution_count": 34,
   "id": "6ba0832f",
   "metadata": {},
   "outputs": [
    {
     "data": {
      "text/plain": [
       "140652266264832"
      ]
     },
     "execution_count": 34,
     "metadata": {},
     "output_type": "execute_result"
    }
   ],
   "source": [
    "L = [ 2 ]\n",
    "id( L )"
   ]
  },
  {
   "cell_type": "markdown",
   "id": "f6329299",
   "metadata": {},
   "source": [
    "Lokale Neuzuweisung der Variable ohne globalen Effekt:"
   ]
  },
  {
   "cell_type": "code",
   "execution_count": 35,
   "id": "4a633f97",
   "metadata": {},
   "outputs": [],
   "source": [
    "def change_locally( k ):\n",
    "    L = [ k ]\n",
    "    print( id( L ) )"
   ]
  },
  {
   "cell_type": "code",
   "execution_count": 37,
   "id": "e2a5eb02",
   "metadata": {},
   "outputs": [
    {
     "name": "stdout",
     "output_type": "stream",
     "text": [
      "140652567995648\n"
     ]
    }
   ],
   "source": [
    "change_locally( 3 )"
   ]
  },
  {
   "cell_type": "code",
   "execution_count": 38,
   "id": "1df32fd9",
   "metadata": {},
   "outputs": [
    {
     "data": {
      "text/plain": [
       "140652266264832"
      ]
     },
     "execution_count": 38,
     "metadata": {},
     "output_type": "execute_result"
    }
   ],
   "source": [
    "id( L )"
   ]
  },
  {
   "cell_type": "code",
   "execution_count": 39,
   "id": "efd6db9a",
   "metadata": {},
   "outputs": [
    {
     "data": {
      "text/plain": [
       "[2]"
      ]
     },
     "execution_count": 39,
     "metadata": {},
     "output_type": "execute_result"
    }
   ],
   "source": [
    "L"
   ]
  },
  {
   "cell_type": "markdown",
   "id": "07bcef88",
   "metadata": {},
   "source": [
    "Globale Neuzuweisung der Variable:"
   ]
  },
  {
   "cell_type": "code",
   "execution_count": 40,
   "id": "63696961",
   "metadata": {},
   "outputs": [],
   "source": [
    "def change_globally( k ):\n",
    "    global L\n",
    "    L = [ k ]\n",
    "    print( id( L ) )"
   ]
  },
  {
   "cell_type": "code",
   "execution_count": 41,
   "id": "85c48166",
   "metadata": {},
   "outputs": [
    {
     "name": "stdout",
     "output_type": "stream",
     "text": [
      "140652567735680\n"
     ]
    }
   ],
   "source": [
    "change_globally( 3 )"
   ]
  },
  {
   "cell_type": "code",
   "execution_count": 42,
   "id": "43a5e31b",
   "metadata": {},
   "outputs": [
    {
     "data": {
      "text/plain": [
       "140652567735680"
      ]
     },
     "execution_count": 42,
     "metadata": {},
     "output_type": "execute_result"
    }
   ],
   "source": [
    "id( L )"
   ]
  },
  {
   "cell_type": "code",
   "execution_count": 43,
   "id": "1b6be819",
   "metadata": {},
   "outputs": [
    {
     "data": {
      "text/plain": [
       "[3]"
      ]
     },
     "execution_count": 43,
     "metadata": {},
     "output_type": "execute_result"
    }
   ],
   "source": [
    "L"
   ]
  },
  {
   "cell_type": "markdown",
   "id": "0988b789",
   "metadata": {},
   "source": [
    "In-place-Änderung des Listeninhalts, ohne Neuzuweisung der Variable: Hier ist noch anzumerken, dass man an eine Liste `L` mittels `L.append( k )` den Wert $k$ anhängen kann:"
   ]
  },
  {
   "cell_type": "code",
   "execution_count": 44,
   "id": "e23668fc",
   "metadata": {},
   "outputs": [],
   "source": [
    "def append_value( k ):\n",
    "    L.append( k )"
   ]
  },
  {
   "cell_type": "code",
   "execution_count": 45,
   "id": "988d99b5",
   "metadata": {},
   "outputs": [],
   "source": [
    "append_value( 7 )"
   ]
  },
  {
   "cell_type": "code",
   "execution_count": 46,
   "id": "7fae3959",
   "metadata": {},
   "outputs": [
    {
     "data": {
      "text/plain": [
       "140652567735680"
      ]
     },
     "execution_count": 46,
     "metadata": {},
     "output_type": "execute_result"
    }
   ],
   "source": [
    "id( L ) # die Speicheradresse blieb gleich..."
   ]
  },
  {
   "cell_type": "code",
   "execution_count": 47,
   "id": "f2e236e5",
   "metadata": {},
   "outputs": [
    {
     "data": {
      "text/plain": [
       "[3, 7]"
      ]
     },
     "execution_count": 47,
     "metadata": {},
     "output_type": "execute_result"
    }
   ],
   "source": [
    "L # ... aber der Listeninhalt änderte sich"
   ]
  },
  {
   "cell_type": "code",
   "execution_count": null,
   "id": "654289e7",
   "metadata": {},
   "outputs": [],
   "source": []
  }
 ],
 "metadata": {
  "kernelspec": {
   "display_name": "Python 3 (ipykernel)",
   "language": "python",
   "name": "python3"
  },
  "language_info": {
   "codemirror_mode": {
    "name": "ipython",
    "version": 3
   },
   "file_extension": ".py",
   "mimetype": "text/x-python",
   "name": "python",
   "nbconvert_exporter": "python",
   "pygments_lexer": "ipython3",
   "version": "3.10.6"
  }
 },
 "nbformat": 4,
 "nbformat_minor": 5
}
