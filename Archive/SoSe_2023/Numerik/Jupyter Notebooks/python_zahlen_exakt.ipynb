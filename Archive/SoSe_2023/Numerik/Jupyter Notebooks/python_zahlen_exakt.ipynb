{
 "cells": [
  {
   "cell_type": "markdown",
   "id": "c72670dc",
   "metadata": {},
   "source": [
    "# Exakt rechnen in Python\n",
    "\n",
    "Natürlich ist exaktes Rechnen nicht Thema der Numerik. Aber grundsätzlich sollte man wissen, wie das geht.\n",
    "\n",
    "## Ganze Zahlen\n",
    "\n",
    "Außer in sehr alten Versionen von Python, die Sie sicherlich nicht verwenden, können Ganzzahlen beliebig groß sein (natürlich im Rahmen der Speicherkapazität des Computers). Wie Sie bereits aus dem Notebook über Plotting wissen, potenziert man mit dem Operator `**`:"
   ]
  },
  {
   "cell_type": "code",
   "execution_count": 1,
   "id": "ed6cec1c",
   "metadata": {},
   "outputs": [
    {
     "data": {
      "text/plain": [
       "2582249878086908589655919172003011874329705792829223512830659356540647622016841194629645353280137831435903171972747493376"
      ]
     },
     "execution_count": 1,
     "metadata": {},
     "output_type": "execute_result"
    }
   ],
   "source": [
    "2**400"
   ]
  },
  {
   "cell_type": "markdown",
   "id": "6ce89ae4",
   "metadata": {},
   "source": [
    "Der für Ganzzahlen verwendete Datentyp heißt `int`. Summe, Produkt und Differenz zweier ganzer Zahlen ergibt wieder eine ganze Zahl, nicht jedoch der Quotient. Den Ganzzahlquotient erhält man mit `//` statt `/`, den Divisionsrest mit `%`:"
   ]
  },
  {
   "cell_type": "code",
   "execution_count": 2,
   "id": "03d0ba0d",
   "metadata": {},
   "outputs": [
    {
     "name": "stdout",
     "output_type": "stream",
     "text": [
      "8 hat den Typ <class 'int'>\n"
     ]
    }
   ],
   "source": [
    "print( 2+6, \"hat den Typ\", type(2+6) )"
   ]
  },
  {
   "cell_type": "code",
   "execution_count": 3,
   "id": "52a243df",
   "metadata": {},
   "outputs": [
    {
     "name": "stdout",
     "output_type": "stream",
     "text": [
      "-4 hat den Typ <class 'int'>\n"
     ]
    }
   ],
   "source": [
    "print( 2-6, \"hat den Typ\", type(2-6) )"
   ]
  },
  {
   "cell_type": "code",
   "execution_count": 4,
   "id": "78686139",
   "metadata": {},
   "outputs": [
    {
     "name": "stdout",
     "output_type": "stream",
     "text": [
      "12 hat den Typ <class 'int'>\n"
     ]
    }
   ],
   "source": [
    "print( 2*6, \"hat den Typ\", type(2*6) )"
   ]
  },
  {
   "cell_type": "code",
   "execution_count": 5,
   "id": "051befa3",
   "metadata": {},
   "outputs": [
    {
     "name": "stdout",
     "output_type": "stream",
     "text": [
      "2.6666666666666665 hat den Typ <class 'float'>\n"
     ]
    }
   ],
   "source": [
    "print( 16/6, \"hat den Typ\", type(16/6) )"
   ]
  },
  {
   "cell_type": "code",
   "execution_count": 6,
   "id": "6f43e272",
   "metadata": {},
   "outputs": [
    {
     "name": "stdout",
     "output_type": "stream",
     "text": [
      "2 hat den Typ <class 'int'>\n"
     ]
    }
   ],
   "source": [
    "print( 16//6, \"hat den Typ\", type(16//6) )"
   ]
  },
  {
   "cell_type": "code",
   "execution_count": 7,
   "id": "fe1cacc8",
   "metadata": {},
   "outputs": [
    {
     "name": "stdout",
     "output_type": "stream",
     "text": [
      "4 hat den Typ <class 'int'>\n"
     ]
    }
   ],
   "source": [
    "print( 16%6, \"hat den Typ\", type(16%6) )"
   ]
  },
  {
   "cell_type": "markdown",
   "id": "a019b89f",
   "metadata": {},
   "source": [
    "## Rationale Zahlen\n",
    "\n",
    "Wie gesehen wird der Quotient ganzer Zahlen normalerweise nicht als Bruch, sondern als Gleitkommazahl dargestellt. Will man aber mit echten Brüchen rechnen, kann man das [fractions](https://docs.python.org/3/library/fractions.html)-Paket verwenden. \n",
    "\n",
    "Im Notebook über Plotting lernten Sie, wie man ein Paket importiert und dann eine Funktion aus dem Paket mit `paketname.funktionsname` aufruft. Hier ist eine andere Möglichkeit: Man kann eine Funktion (hier: `Fraction`) aus einem Paket (hier: `fractions`) importieren und dann aufrufen. Mit `from fractions import Fraction as Bruch` könnte man übrigens der Funktion noch den Namen `Bruch` geben, aber das machen wir hier nicht.\n",
    "\n",
    "`Fraction( a, b )` erzeugt den Bruch $\\frac ab$, wobei der Bruch gekürzt wird."
   ]
  },
  {
   "cell_type": "code",
   "execution_count": 8,
   "id": "b0e2c4b3",
   "metadata": {},
   "outputs": [
    {
     "data": {
      "text/plain": [
       "Fraction(8, 3)"
      ]
     },
     "execution_count": 8,
     "metadata": {},
     "output_type": "execute_result"
    }
   ],
   "source": [
    "from fractions import Fraction\n",
    "Fraction( 16, 6 )"
   ]
  },
  {
   "cell_type": "markdown",
   "id": "ef77c65e",
   "metadata": {},
   "source": [
    "Prinzipiell kann man auch eine Gleitkommazahl in einen exakten Bruch verwandeln, aber aufgrund des Rundungsfehlers von Gleitkommazahlen ist es ein Unterschied, ob man einen Bruch direkt oder über den Umweg einer Gleitkommazahl erzeugt."
   ]
  },
  {
   "cell_type": "code",
   "execution_count": 9,
   "id": "1bb1185d",
   "metadata": {},
   "outputs": [
    {
     "data": {
      "text/plain": [
       "Fraction(6004799503160661, 2251799813685248)"
      ]
     },
     "execution_count": 9,
     "metadata": {},
     "output_type": "execute_result"
    }
   ],
   "source": [
    "Fraction( 16 / 6 )"
   ]
  },
  {
   "cell_type": "code",
   "execution_count": 10,
   "id": "e4bd6a2f",
   "metadata": {},
   "outputs": [
    {
     "data": {
      "text/plain": [
       "False"
      ]
     },
     "execution_count": 10,
     "metadata": {},
     "output_type": "execute_result"
    }
   ],
   "source": [
    "Fraction( 16, 6 ) == Fraction(16 / 6)"
   ]
  },
  {
   "cell_type": "markdown",
   "id": "222b4843",
   "metadata": {},
   "source": [
    "Mit Brüchen kann man dann wie gewohnt rechnen, solange man nicht mit einem Bruch potenziert. Ganzzahlen und Brüche kann man in der Rechnung auch mischen, wobei das Ergebnis vom Datentyp her auch dann ein Bruch ist, wenn es ganzzahlig ist."
   ]
  },
  {
   "cell_type": "code",
   "execution_count": 11,
   "id": "6f763a33",
   "metadata": {},
   "outputs": [],
   "source": [
    "a = Fraction( 7, 12 )\n",
    "b = Fraction( 3, 16 )"
   ]
  },
  {
   "cell_type": "code",
   "execution_count": 12,
   "id": "936d1218",
   "metadata": {},
   "outputs": [
    {
     "name": "stdout",
     "output_type": "stream",
     "text": [
      "7/12 + 3/16 = 37/48\n",
      "7/12 - 3/16 = 19/48\n",
      "7/12 * 3/16 = 7/64\n",
      "7/12 * 12 = 7 hat den Typ <class 'fractions.Fraction'>\n",
      "3/16 + 2 = 35/16\n"
     ]
    }
   ],
   "source": [
    "print( a, \"+\", b, \"=\", a+b )\n",
    "print( a, \"-\", b, \"=\", a-b )\n",
    "print( a, \"*\", b, \"=\", a*b )\n",
    "print( a, \"*\", 12, \"=\", a*12, \"hat den Typ\", type(a*12) )\n",
    "print( b, \"+\", 2, \"=\", b+2 )"
   ]
  },
  {
   "cell_type": "markdown",
   "id": "9cf97d97",
   "metadata": {},
   "source": [
    "Wie Sie sehen ist ein Unterschied, ob man einen Bruch einfach nur anzeigt oder dafür die Print-Funktion verwendet (es ist dasselbe Objekt, es wird nur unterschiedlich dargestellt):"
   ]
  },
  {
   "cell_type": "code",
   "execution_count": 13,
   "id": "69811f34",
   "metadata": {},
   "outputs": [
    {
     "name": "stdout",
     "output_type": "stream",
     "text": [
      "7/12\n"
     ]
    },
    {
     "data": {
      "text/plain": [
       "Fraction(7, 12)"
      ]
     },
     "execution_count": 13,
     "metadata": {},
     "output_type": "execute_result"
    }
   ],
   "source": [
    "print(a)\n",
    "a"
   ]
  },
  {
   "cell_type": "markdown",
   "id": "79eeb390",
   "metadata": {},
   "source": [
    "Wenn man mit Brüchen potenziert, wird gerundet:"
   ]
  },
  {
   "cell_type": "code",
   "execution_count": 14,
   "id": "af0a818d",
   "metadata": {},
   "outputs": [
    {
     "data": {
      "text/plain": [
       "0.9038771318817659"
      ]
     },
     "execution_count": 14,
     "metadata": {},
     "output_type": "execute_result"
    }
   ],
   "source": [
    "a**b"
   ]
  },
  {
   "cell_type": "markdown",
   "id": "27591263",
   "metadata": {},
   "source": [
    "Bei exakter Rechnung wäre $(a^b)^{16}=a^3$, denn es ist ja $b=\\frac 3{16}$. Aber das ist bei gerundeter Rechnung natürlich nicht der Fall:"
   ]
  },
  {
   "cell_type": "code",
   "execution_count": 15,
   "id": "333fa0e5",
   "metadata": {},
   "outputs": [
    {
     "name": "stdout",
     "output_type": "stream",
     "text": [
      "0.19849537037037057\n",
      "a**3 = 343/1728 entspricht der Gleitkommazahl 0.19849537037037038\n"
     ]
    }
   ],
   "source": [
    "print( (a**b)**16 )  # eine Gleitkommazahl\n",
    "print( \"a**3 =\", a**3, \"entspricht der Gleitkommazahl\", float(a**3) )"
   ]
  }
 ],
 "metadata": {
  "kernelspec": {
   "display_name": "Python 3 (ipykernel)",
   "language": "python",
   "name": "python3"
  },
  "language_info": {
   "codemirror_mode": {
    "name": "ipython",
    "version": 3
   },
   "file_extension": ".py",
   "mimetype": "text/x-python",
   "name": "python",
   "nbconvert_exporter": "python",
   "pygments_lexer": "ipython3",
   "version": "3.10.6"
  }
 },
 "nbformat": 4,
 "nbformat_minor": 5
}
