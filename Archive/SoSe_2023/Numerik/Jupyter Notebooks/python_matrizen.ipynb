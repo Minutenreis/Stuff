{
 "cells": [
  {
   "cell_type": "markdown",
   "id": "60da8c4b",
   "metadata": {},
   "source": [
    "# Matrixarithmetik in numpy\n",
    "\n",
    "Matrizen lassen sich mit \"geschachtelten\" numpy arrais darstellen:"
   ]
  },
  {
   "cell_type": "code",
   "execution_count": 1,
   "id": "109d441c",
   "metadata": {},
   "outputs": [],
   "source": [
    "import numpy as np"
   ]
  },
  {
   "cell_type": "code",
   "execution_count": 2,
   "id": "09a96066",
   "metadata": {},
   "outputs": [],
   "source": [
    "A = np.array([[1,2],[3,4]])\n",
    "B = np.array([[-1,1],[2,-2]])"
   ]
  },
  {
   "cell_type": "code",
   "execution_count": 3,
   "id": "3c518efd",
   "metadata": {},
   "outputs": [
    {
     "data": {
      "text/plain": [
       "array([[1, 2],\n",
       "       [3, 4]])"
      ]
     },
     "execution_count": 3,
     "metadata": {},
     "output_type": "execute_result"
    }
   ],
   "source": [
    "A"
   ]
  },
  {
   "cell_type": "code",
   "execution_count": 4,
   "id": "65f7339b",
   "metadata": {},
   "outputs": [
    {
     "data": {
      "text/plain": [
       "array([[-1,  1],\n",
       "       [ 2, -2]])"
      ]
     },
     "execution_count": 4,
     "metadata": {},
     "output_type": "execute_result"
    }
   ],
   "source": [
    "B"
   ]
  },
  {
   "cell_type": "markdown",
   "id": "3e23cdf7",
   "metadata": {},
   "source": [
    "Wie man sieht, werden die Einträge der Matrix als eine Liste von Zeilen eingegeben, wobei jede Zeile eine Liste von Zahlen ist. Ein Spaltenvektor würde also so konstruiert:"
   ]
  },
  {
   "cell_type": "code",
   "execution_count": 5,
   "id": "cfec7cec",
   "metadata": {},
   "outputs": [],
   "source": [
    "v = np.array([[2],[1]])"
   ]
  },
  {
   "cell_type": "markdown",
   "id": "5991132b",
   "metadata": {},
   "source": [
    "Einzelne Einträge einer Matrix erhält man mit `A[i,j]` für den Eintrag von `A` in der `i`-ten Zeile und `j`-ten Spalte. Dabei ist aber zu beachten, dass man mit dem Zählen nicht bei $1$, sondern bei $0$ beginnt:"
   ]
  },
  {
   "cell_type": "code",
   "execution_count": 6,
   "id": "143e842a",
   "metadata": {},
   "outputs": [
    {
     "data": {
      "text/plain": [
       "2"
      ]
     },
     "execution_count": 6,
     "metadata": {},
     "output_type": "execute_result"
    }
   ],
   "source": [
    "A[ 0, 1 ]"
   ]
  },
  {
   "cell_type": "markdown",
   "id": "22e0e409",
   "metadata": {},
   "source": [
    "Rechenoperationen mit arrays erfolgen normalerweise komponentenweise. Das ist genau, was man bei der Addition von Matrizen will. Nur bei der Addition möchte man doch eher die Matrixmultiplikation aus der linearen Algebra haben. Daher verwendet man für die Multiplikation eine spezielle Funktion:"
   ]
  },
  {
   "cell_type": "code",
   "execution_count": 7,
   "id": "fef5c530",
   "metadata": {},
   "outputs": [
    {
     "data": {
      "text/plain": [
       "array([[0, 3],\n",
       "       [5, 2]])"
      ]
     },
     "execution_count": 7,
     "metadata": {},
     "output_type": "execute_result"
    }
   ],
   "source": [
    "A + B"
   ]
  },
  {
   "cell_type": "code",
   "execution_count": 8,
   "id": "8bb0dd03",
   "metadata": {},
   "outputs": [
    {
     "data": {
      "text/plain": [
       "array([[-1,  2],\n",
       "       [ 6, -8]])"
      ]
     },
     "execution_count": 8,
     "metadata": {},
     "output_type": "execute_result"
    }
   ],
   "source": [
    "A * B    # komponentenweise"
   ]
  },
  {
   "cell_type": "code",
   "execution_count": 9,
   "id": "60aa0844",
   "metadata": {},
   "outputs": [
    {
     "data": {
      "text/plain": [
       "array([[ 3, -3],\n",
       "       [ 5, -5]])"
      ]
     },
     "execution_count": 9,
     "metadata": {},
     "output_type": "execute_result"
    }
   ],
   "source": [
    "np.matmul( A, B )  #Matrixprodukt aus der Linearen Algebra"
   ]
  },
  {
   "cell_type": "markdown",
   "id": "c6a8a27b",
   "metadata": {},
   "source": [
    "Auf diese Weise kann man natürlich auch ein Matrix-Vektor-Produkt berechnen:"
   ]
  },
  {
   "cell_type": "code",
   "execution_count": 10,
   "id": "46d94da5",
   "metadata": {},
   "outputs": [
    {
     "data": {
      "text/plain": [
       "array([[ 4],\n",
       "       [10]])"
      ]
     },
     "execution_count": 10,
     "metadata": {},
     "output_type": "execute_result"
    }
   ],
   "source": [
    "np.matmul( A, v )"
   ]
  },
  {
   "cell_type": "markdown",
   "id": "3313d3f1",
   "metadata": {},
   "source": [
    "Natürlich kann man auch Funktionen definieren, die eine Matrix zurückgeben:"
   ]
  },
  {
   "cell_type": "code",
   "execution_count": 11,
   "id": "05b3891a",
   "metadata": {},
   "outputs": [],
   "source": [
    "# Zu einer Liste X von Punkten wird an Stelle (i,j)\n",
    "# das i-te Listenelement zur j-ten Potenz geschrieben\n",
    "# Die Länge der Liste X erhält man mit len(X)\n",
    "def Vandermonde ( X ):\n",
    "    return np.array( [ [x**j for j in range( len( X ) ) ] for x in X ] )"
   ]
  },
  {
   "cell_type": "code",
   "execution_count": 12,
   "id": "b0966c08",
   "metadata": {},
   "outputs": [
    {
     "data": {
      "text/plain": [
       "array([[1.  , 1.  , 1.  ],\n",
       "       [1.  , 2.5 , 6.25],\n",
       "       [1.  , 3.  , 9.  ]])"
      ]
     },
     "execution_count": 12,
     "metadata": {},
     "output_type": "execute_result"
    }
   ],
   "source": [
    "Vandermonde( [ 1, 2.5, 3 ] )"
   ]
  },
  {
   "cell_type": "markdown",
   "id": "a629ebda",
   "metadata": {},
   "source": [
    "Für das Invertieren von Matrizen benötigt man eine Funktion aus `np.linalg`."
   ]
  },
  {
   "cell_type": "code",
   "execution_count": 13,
   "id": "26f1018a",
   "metadata": {},
   "outputs": [
    {
     "data": {
      "text/plain": [
       "array([[ 2.5       , -4.        ,  2.5       ],\n",
       "       [-1.83333333,  5.33333333, -3.5       ],\n",
       "       [ 0.33333333, -1.33333333,  1.        ]])"
      ]
     },
     "execution_count": 13,
     "metadata": {},
     "output_type": "execute_result"
    }
   ],
   "source": [
    "np.linalg.inv( Vandermonde( [ 1, 2.5, 3 ] ) )"
   ]
  },
  {
   "cell_type": "code",
   "execution_count": 14,
   "id": "fda32d04",
   "metadata": {},
   "outputs": [
    {
     "data": {
      "text/plain": [
       "array([[1., 0., 0.],\n",
       "       [0., 1., 0.],\n",
       "       [0., 0., 1.]])"
      ]
     },
     "execution_count": 14,
     "metadata": {},
     "output_type": "execute_result"
    }
   ],
   "source": [
    "np.matmul(np.linalg.inv( Vandermonde( [ 1, 2.5, 3 ] ) ) , Vandermonde( [ 1, 2.5, 3 ] ) ) \n",
    "# Es könnten hier natürlich Rundungsfehler auftreten"
   ]
  },
  {
   "cell_type": "markdown",
   "id": "7f8cbb57",
   "metadata": {},
   "source": [
    "Versucht man, eine nicht-invertierbare Matrix zu invertieren, entsteht ein Fehler:"
   ]
  },
  {
   "cell_type": "code",
   "execution_count": 15,
   "id": "d868959d",
   "metadata": {},
   "outputs": [
    {
     "ename": "LinAlgError",
     "evalue": "Singular matrix",
     "output_type": "error",
     "traceback": [
      "\u001b[0;31m---------------------------------------------------------------------------\u001b[0m",
      "\u001b[0;31mLinAlgError\u001b[0m                               Traceback (most recent call last)",
      "Cell \u001b[0;32mIn [15], line 1\u001b[0m\n\u001b[0;32m----> 1\u001b[0m \u001b[43mnp\u001b[49m\u001b[38;5;241;43m.\u001b[39;49m\u001b[43mlinalg\u001b[49m\u001b[38;5;241;43m.\u001b[39;49m\u001b[43minv\u001b[49m\u001b[43m(\u001b[49m\u001b[43m \u001b[49m\u001b[43mB\u001b[49m\u001b[43m \u001b[49m\u001b[43m)\u001b[49m\n",
      "File \u001b[0;32m<__array_function__ internals>:180\u001b[0m, in \u001b[0;36minv\u001b[0;34m(*args, **kwargs)\u001b[0m\n",
      "File \u001b[0;32m~/sagemath/sage/local/var/lib/sage/venv-python3.10/lib/python3.10/site-packages/numpy/linalg/linalg.py:552\u001b[0m, in \u001b[0;36minv\u001b[0;34m(a)\u001b[0m\n\u001b[1;32m    550\u001b[0m signature \u001b[38;5;241m=\u001b[39m \u001b[38;5;124m'\u001b[39m\u001b[38;5;124mD->D\u001b[39m\u001b[38;5;124m'\u001b[39m \u001b[38;5;28;01mif\u001b[39;00m isComplexType(t) \u001b[38;5;28;01melse\u001b[39;00m \u001b[38;5;124m'\u001b[39m\u001b[38;5;124md->d\u001b[39m\u001b[38;5;124m'\u001b[39m\n\u001b[1;32m    551\u001b[0m extobj \u001b[38;5;241m=\u001b[39m get_linalg_error_extobj(_raise_linalgerror_singular)\n\u001b[0;32m--> 552\u001b[0m ainv \u001b[38;5;241m=\u001b[39m \u001b[43m_umath_linalg\u001b[49m\u001b[38;5;241;43m.\u001b[39;49m\u001b[43minv\u001b[49m\u001b[43m(\u001b[49m\u001b[43ma\u001b[49m\u001b[43m,\u001b[49m\u001b[43m \u001b[49m\u001b[43msignature\u001b[49m\u001b[38;5;241;43m=\u001b[39;49m\u001b[43msignature\u001b[49m\u001b[43m,\u001b[49m\u001b[43m \u001b[49m\u001b[43mextobj\u001b[49m\u001b[38;5;241;43m=\u001b[39;49m\u001b[43mextobj\u001b[49m\u001b[43m)\u001b[49m\n\u001b[1;32m    553\u001b[0m \u001b[38;5;28;01mreturn\u001b[39;00m wrap(ainv\u001b[38;5;241m.\u001b[39mastype(result_t, copy\u001b[38;5;241m=\u001b[39m\u001b[38;5;28;01mFalse\u001b[39;00m))\n",
      "File \u001b[0;32m~/sagemath/sage/local/var/lib/sage/venv-python3.10/lib/python3.10/site-packages/numpy/linalg/linalg.py:89\u001b[0m, in \u001b[0;36m_raise_linalgerror_singular\u001b[0;34m(err, flag)\u001b[0m\n\u001b[1;32m     88\u001b[0m \u001b[38;5;28;01mdef\u001b[39;00m \u001b[38;5;21m_raise_linalgerror_singular\u001b[39m(err, flag):\n\u001b[0;32m---> 89\u001b[0m     \u001b[38;5;28;01mraise\u001b[39;00m LinAlgError(\u001b[38;5;124m\"\u001b[39m\u001b[38;5;124mSingular matrix\u001b[39m\u001b[38;5;124m\"\u001b[39m)\n",
      "\u001b[0;31mLinAlgError\u001b[0m: Singular matrix"
     ]
    }
   ],
   "source": [
    "np.linalg.inv( B )"
   ]
  },
  {
   "cell_type": "markdown",
   "id": "4551de51",
   "metadata": {},
   "source": [
    "Will man sicher gehen, dass man keine nicht-invertierbare Matrix invertiert, könnte man zuerst die Determinante berechnen lassen, denn diese ist ja für singuläre Matrizen Null:"
   ]
  },
  {
   "cell_type": "code",
   "execution_count": 16,
   "id": "8490577b",
   "metadata": {},
   "outputs": [
    {
     "name": "stdout",
     "output_type": "stream",
     "text": [
      "Wir können versuchen, zu invertieren\n"
     ]
    }
   ],
   "source": [
    "if np.linalg.det( A ) == 0:\n",
    "    print( \"Matrix ist singulär\" )\n",
    "else:\n",
    "    print( \"Wir können versuchen, zu invertieren\" )"
   ]
  },
  {
   "cell_type": "code",
   "execution_count": 17,
   "id": "2b3e063b",
   "metadata": {},
   "outputs": [
    {
     "name": "stdout",
     "output_type": "stream",
     "text": [
      "Matrix ist singulär\n"
     ]
    }
   ],
   "source": [
    "if np.linalg.det( B ) == 0:\n",
    "    print( \"Matrix ist singulär\" )\n",
    "else:\n",
    "    print( \"Wir können versuchen, zu invertieren\" )"
   ]
  },
  {
   "cell_type": "markdown",
   "id": "84269dc3",
   "metadata": {},
   "source": [
    "Aber: Die Berechnung der Determinante ist aufwändig und ein Wert ungleich Null kann auch durch Rundungsfehler zustande kommen. Also ist es besser, einfach das Invertieren zu *versuchen*, und ggf. den Fehler \"abzufangen\". Dies geht durch `try: <Codeblock> except <Fehlertyp> as <Variable>: <Codeblock>`:"
   ]
  },
  {
   "cell_type": "code",
   "execution_count": 18,
   "id": "2633c761",
   "metadata": {},
   "outputs": [
    {
     "name": "stdout",
     "output_type": "stream",
     "text": [
      "[[-2.   1. ]\n",
      " [ 1.5 -0.5]]\n"
     ]
    }
   ],
   "source": [
    "try:\n",
    "    print( np.linalg.inv( A ) )\n",
    "except np.linalg.LinAlgError as Fehler:\n",
    "    print( Fehler )"
   ]
  },
  {
   "cell_type": "code",
   "execution_count": 19,
   "id": "d4df9d22",
   "metadata": {},
   "outputs": [
    {
     "name": "stdout",
     "output_type": "stream",
     "text": [
      "Singular matrix\n"
     ]
    }
   ],
   "source": [
    "try:\n",
    "    print( np.linalg.inv( B ) )\n",
    "except np.linalg.LinAlgError as Fehler:\n",
    "    print( Fehler )"
   ]
  },
  {
   "cell_type": "code",
   "execution_count": null,
   "id": "44ee77d1",
   "metadata": {},
   "outputs": [],
   "source": []
  }
 ],
 "metadata": {
  "kernelspec": {
   "display_name": "Python 3 (ipykernel)",
   "language": "python",
   "name": "python3"
  },
  "language_info": {
   "codemirror_mode": {
    "name": "ipython",
    "version": 3
   },
   "file_extension": ".py",
   "mimetype": "text/x-python",
   "name": "python",
   "nbconvert_exporter": "python",
   "pygments_lexer": "ipython3",
   "version": "3.10.6"
  }
 },
 "nbformat": 4,
 "nbformat_minor": 5
}
